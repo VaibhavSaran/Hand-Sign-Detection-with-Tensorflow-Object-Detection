{
 "cells": [
  {
   "cell_type": "markdown",
   "id": "048e45d5-d17d-4b06-80de-d1e1359656b6",
   "metadata": {},
   "source": [
    "# Installing Preequisite Libraries"
   ]
  },
  {
   "cell_type": "code",
   "execution_count": 1,
   "id": "3cdd3c89-74e4-4bf1-ac7b-86181b312f08",
   "metadata": {
    "collapsed": true,
    "jupyter": {
     "outputs_hidden": true
    },
    "tags": []
   },
   "outputs": [
    {
     "name": "stdout",
     "output_type": "stream",
     "text": [
      "Requirement already satisfied: numpy in d:\\hand sign prediction using tensorflow object detection\\hsptod\\lib\\site-packages (1.19.5)\n"
     ]
    }
   ],
   "source": [
    "!pip install numpy"
   ]
  },
  {
   "cell_type": "code",
   "execution_count": 2,
   "id": "37761ebd-f131-4538-8bc7-c43487c846c2",
   "metadata": {
    "collapsed": true,
    "jupyter": {
     "outputs_hidden": true
    },
    "tags": []
   },
   "outputs": [
    {
     "name": "stdout",
     "output_type": "stream",
     "text": [
      "Requirement already satisfied: wheel in d:\\hand sign prediction using tensorflow object detection\\hsptod\\lib\\site-packages (0.36.2)\n"
     ]
    }
   ],
   "source": [
    "!pip install wheel"
   ]
  },
  {
   "cell_type": "code",
   "execution_count": 3,
   "id": "3af41988-3b1b-4b63-a5ef-f6d5030efc6a",
   "metadata": {
    "collapsed": true,
    "jupyter": {
     "outputs_hidden": true
    },
    "tags": []
   },
   "outputs": [
    {
     "name": "stdout",
     "output_type": "stream",
     "text": [
      "Requirement already satisfied: pandas in d:\\hand sign prediction using tensorflow object detection\\hsptod\\lib\\site-packages (1.3.0)\n",
      "Requirement already satisfied: numpy>=1.17.3 in d:\\hand sign prediction using tensorflow object detection\\hsptod\\lib\\site-packages (from pandas) (1.19.5)\n",
      "Requirement already satisfied: pytz>=2017.3 in d:\\hand sign prediction using tensorflow object detection\\hsptod\\lib\\site-packages (from pandas) (2021.1)\n",
      "Requirement already satisfied: python-dateutil>=2.7.3 in d:\\hand sign prediction using tensorflow object detection\\hsptod\\lib\\site-packages (from pandas) (2.8.1)\n",
      "Requirement already satisfied: six>=1.5 in d:\\hand sign prediction using tensorflow object detection\\hsptod\\lib\\site-packages (from python-dateutil>=2.7.3->pandas) (1.15.0)\n"
     ]
    }
   ],
   "source": [
    "!pip install pandas"
   ]
  },
  {
   "cell_type": "code",
   "execution_count": 4,
   "id": "9cebf89f-9938-4612-9615-54044d491b9b",
   "metadata": {
    "collapsed": true,
    "jupyter": {
     "outputs_hidden": true
    },
    "tags": []
   },
   "outputs": [
    {
     "name": "stdout",
     "output_type": "stream",
     "text": [
      "Requirement already satisfied: opencv-python in d:\\hand sign prediction using tensorflow object detection\\hsptod\\lib\\site-packages (4.5.3.56)\n",
      "Requirement already satisfied: numpy>=1.14.5 in d:\\hand sign prediction using tensorflow object detection\\hsptod\\lib\\site-packages (from opencv-python) (1.19.5)\n"
     ]
    }
   ],
   "source": [
    "!pip install opencv-python"
   ]
  },
  {
   "cell_type": "code",
   "execution_count": 5,
   "id": "6c227ad0-755f-4bac-8193-f895b5ea6ce3",
   "metadata": {
    "collapsed": true,
    "jupyter": {
     "outputs_hidden": true
    },
    "tags": []
   },
   "outputs": [
    {
     "name": "stdout",
     "output_type": "stream",
     "text": [
      "Requirement already satisfied: uuid in d:\\hand sign prediction using tensorflow object detection\\hsptod\\lib\\site-packages (1.30)\n"
     ]
    }
   ],
   "source": [
    "!pip install uuid"
   ]
  },
  {
   "cell_type": "code",
   "execution_count": 6,
   "id": "ef56ca3f-12fb-45d2-8838-092bbb781079",
   "metadata": {
    "collapsed": true,
    "jupyter": {
     "outputs_hidden": true
    },
    "tags": []
   },
   "outputs": [
    {
     "name": "stdout",
     "output_type": "stream",
     "text": [
      "Requirement already satisfied: os-win in d:\\hand sign prediction using tensorflow object detection\\hsptod\\lib\\site-packages (5.4.0)\n",
      "Requirement already satisfied: oslo.i18n>=3.15.3 in d:\\hand sign prediction using tensorflow object detection\\hsptod\\lib\\site-packages (from os-win) (5.0.1)\n",
      "Requirement already satisfied: oslo.config>=6.8.0 in d:\\hand sign prediction using tensorflow object detection\\hsptod\\lib\\site-packages (from os-win) (8.7.0)\n",
      "Requirement already satisfied: oslo.log>=3.36.0 in d:\\hand sign prediction using tensorflow object detection\\hsptod\\lib\\site-packages (from os-win) (4.6.0)\n",
      "Requirement already satisfied: PyMI>=1.0.0 in d:\\hand sign prediction using tensorflow object detection\\hsptod\\lib\\site-packages (from os-win) (1.0.6)\n",
      "Requirement already satisfied: eventlet>=0.22.0 in d:\\hand sign prediction using tensorflow object detection\\hsptod\\lib\\site-packages (from os-win) (0.31.0)\n",
      "Requirement already satisfied: oslo.concurrency>=3.29.0 in d:\\hand sign prediction using tensorflow object detection\\hsptod\\lib\\site-packages (from os-win) (4.4.0)\n",
      "Requirement already satisfied: oslo.utils>=4.7.0 in d:\\hand sign prediction using tensorflow object detection\\hsptod\\lib\\site-packages (from os-win) (4.9.2)\n",
      "Requirement already satisfied: wmi>=0.5 in d:\\hand sign prediction using tensorflow object detection\\hsptod\\lib\\site-packages (from os-win) (1.5.1)\n",
      "Requirement already satisfied: pbr!=2.1.0,>=2.0.0 in d:\\hand sign prediction using tensorflow object detection\\hsptod\\lib\\site-packages (from os-win) (5.6.0)\n",
      "Requirement already satisfied: greenlet>=0.3 in d:\\hand sign prediction using tensorflow object detection\\hsptod\\lib\\site-packages (from eventlet>=0.22.0->os-win) (1.1.0)\n",
      "Requirement already satisfied: six>=1.10.0 in d:\\hand sign prediction using tensorflow object detection\\hsptod\\lib\\site-packages (from eventlet>=0.22.0->os-win) (1.15.0)\n",
      "Requirement already satisfied: dnspython<2.0.0,>=1.15.0 in d:\\hand sign prediction using tensorflow object detection\\hsptod\\lib\\site-packages (from eventlet>=0.22.0->os-win) (1.16.0)\n",
      "Requirement already satisfied: fasteners>=0.7.0 in d:\\hand sign prediction using tensorflow object detection\\hsptod\\lib\\site-packages (from oslo.concurrency>=3.29.0->os-win) (0.16.3)\n",
      "Requirement already satisfied: debtcollector>=1.2.0 in d:\\hand sign prediction using tensorflow object detection\\hsptod\\lib\\site-packages (from oslo.config>=6.8.0->os-win) (2.2.0)\n",
      "Requirement already satisfied: requests>=2.18.0 in d:\\hand sign prediction using tensorflow object detection\\hsptod\\lib\\site-packages (from oslo.config>=6.8.0->os-win) (2.25.1)\n",
      "Requirement already satisfied: rfc3986>=1.2.0 in d:\\hand sign prediction using tensorflow object detection\\hsptod\\lib\\site-packages (from oslo.config>=6.8.0->os-win) (1.5.0)\n",
      "Requirement already satisfied: netaddr>=0.7.18 in d:\\hand sign prediction using tensorflow object detection\\hsptod\\lib\\site-packages (from oslo.config>=6.8.0->os-win) (0.8.0)\n",
      "Requirement already satisfied: importlib-metadata>=1.7.0 in d:\\hand sign prediction using tensorflow object detection\\hsptod\\lib\\site-packages (from oslo.config>=6.8.0->os-win) (3.10.1)\n",
      "Requirement already satisfied: PyYAML>=5.1 in d:\\hand sign prediction using tensorflow object detection\\hsptod\\lib\\site-packages (from oslo.config>=6.8.0->os-win) (5.4.1)\n",
      "Requirement already satisfied: stevedore>=1.20.0 in d:\\hand sign prediction using tensorflow object detection\\hsptod\\lib\\site-packages (from oslo.config>=6.8.0->os-win) (3.3.0)\n",
      "Requirement already satisfied: wrapt>=1.7.0 in d:\\hand sign prediction using tensorflow object detection\\hsptod\\lib\\site-packages (from debtcollector>=1.2.0->oslo.config>=6.8.0->os-win) (1.12.1)\n",
      "Requirement already satisfied: zipp>=0.5 in d:\\hand sign prediction using tensorflow object detection\\hsptod\\lib\\site-packages (from importlib-metadata>=1.7.0->oslo.config>=6.8.0->os-win) (3.5.0)\n",
      "Requirement already satisfied: typing-extensions>=3.6.4 in d:\\hand sign prediction using tensorflow object detection\\hsptod\\lib\\site-packages (from importlib-metadata>=1.7.0->oslo.config>=6.8.0->os-win) (3.7.4.3)\n",
      "Requirement already satisfied: oslo.context>=2.20.0 in d:\\hand sign prediction using tensorflow object detection\\hsptod\\lib\\site-packages (from oslo.log>=3.36.0->os-win) (3.3.0)\n",
      "Requirement already satisfied: python-dateutil>=2.7.0 in d:\\hand sign prediction using tensorflow object detection\\hsptod\\lib\\site-packages (from oslo.log>=3.36.0->os-win) (2.8.1)\n",
      "Requirement already satisfied: oslo.serialization>=2.25.0 in d:\\hand sign prediction using tensorflow object detection\\hsptod\\lib\\site-packages (from oslo.log>=3.36.0->os-win) (4.1.0)\n",
      "Requirement already satisfied: msgpack>=0.5.2 in d:\\hand sign prediction using tensorflow object detection\\hsptod\\lib\\site-packages (from oslo.serialization>=2.25.0->oslo.log>=3.36.0->os-win) (1.0.2)\n",
      "Requirement already satisfied: pytz>=2013.6 in d:\\hand sign prediction using tensorflow object detection\\hsptod\\lib\\site-packages (from oslo.serialization>=2.25.0->oslo.log>=3.36.0->os-win) (2021.1)\n",
      "Requirement already satisfied: netifaces>=0.10.4 in d:\\hand sign prediction using tensorflow object detection\\hsptod\\lib\\site-packages (from oslo.utils>=4.7.0->os-win) (0.11.0)\n",
      "Requirement already satisfied: iso8601>=0.1.11 in d:\\hand sign prediction using tensorflow object detection\\hsptod\\lib\\site-packages (from oslo.utils>=4.7.0->os-win) (0.1.14)\n",
      "Requirement already satisfied: packaging>=20.4 in d:\\hand sign prediction using tensorflow object detection\\hsptod\\lib\\site-packages (from oslo.utils>=4.7.0->os-win) (21.0)\n",
      "Requirement already satisfied: pyparsing>=2.1.0 in d:\\hand sign prediction using tensorflow object detection\\hsptod\\lib\\site-packages (from oslo.utils>=4.7.0->os-win) (2.4.7)\n",
      "Requirement already satisfied: certifi>=2017.4.17 in d:\\hand sign prediction using tensorflow object detection\\hsptod\\lib\\site-packages (from requests>=2.18.0->oslo.config>=6.8.0->os-win) (2021.5.30)\n",
      "Requirement already satisfied: chardet<5,>=3.0.2 in d:\\hand sign prediction using tensorflow object detection\\hsptod\\lib\\site-packages (from requests>=2.18.0->oslo.config>=6.8.0->os-win) (4.0.0)\n",
      "Requirement already satisfied: idna<3,>=2.5 in d:\\hand sign prediction using tensorflow object detection\\hsptod\\lib\\site-packages (from requests>=2.18.0->oslo.config>=6.8.0->os-win) (2.10)\n",
      "Requirement already satisfied: urllib3<1.27,>=1.21.1 in d:\\hand sign prediction using tensorflow object detection\\hsptod\\lib\\site-packages (from requests>=2.18.0->oslo.config>=6.8.0->os-win) (1.26.6)\n",
      "Requirement already satisfied: pywin32 in d:\\hand sign prediction using tensorflow object detection\\hsptod\\lib\\site-packages (from wmi>=0.5->os-win) (301)\n"
     ]
    }
   ],
   "source": [
    "!pip install os-win"
   ]
  },
  {
   "cell_type": "code",
   "execution_count": 7,
   "id": "b89a59b3-0ad4-4513-919b-035e8d365b1c",
   "metadata": {
    "collapsed": true,
    "jupyter": {
     "outputs_hidden": true
    },
    "tags": []
   },
   "outputs": [
    {
     "name": "stdout",
     "output_type": "stream",
     "text": [
      "Requirement already satisfied: pyqt5 in d:\\hand sign prediction using tensorflow object detection\\hsptod\\lib\\site-packages (5.15.4)\n",
      "Requirement already satisfied: PyQt5-Qt5>=5.15 in d:\\hand sign prediction using tensorflow object detection\\hsptod\\lib\\site-packages (from pyqt5) (5.15.2)\n",
      "Requirement already satisfied: PyQt5-sip<13,>=12.8 in d:\\hand sign prediction using tensorflow object detection\\hsptod\\lib\\site-packages (from pyqt5) (12.9.0)\n"
     ]
    }
   ],
   "source": [
    "!pip install --upgrade pyqt5"
   ]
  },
  {
   "cell_type": "code",
   "execution_count": 8,
   "id": "ae3da1b6-3136-43fa-8fa4-47923e352c55",
   "metadata": {
    "collapsed": true,
    "jupyter": {
     "outputs_hidden": true
    },
    "tags": []
   },
   "outputs": [
    {
     "name": "stdout",
     "output_type": "stream",
     "text": [
      "Requirement already satisfied: lxml in d:\\hand sign prediction using tensorflow object detection\\hsptod\\lib\\site-packages (4.6.3)\n"
     ]
    }
   ],
   "source": [
    "!pip install --upgrade lxml"
   ]
  },
  {
   "cell_type": "code",
   "execution_count": 9,
   "id": "ed5458da-45d0-4345-93c1-bff8d432b2ef",
   "metadata": {
    "collapsed": true,
    "jupyter": {
     "outputs_hidden": true
    },
    "tags": []
   },
   "outputs": [
    {
     "name": "stdout",
     "output_type": "stream",
     "text": [
      "Requirement already satisfied: wget in d:\\hand sign prediction using tensorflow object detection\\hsptod\\lib\\site-packages (3.2)\n"
     ]
    }
   ],
   "source": [
    "# To use models from Tensorflow model zoo\n",
    "!pip install wget"
   ]
  },
  {
   "cell_type": "code",
   "execution_count": 10,
   "id": "460f94e4-8db6-4248-9593-6de90d9d8613",
   "metadata": {
    "collapsed": true,
    "jupyter": {
     "outputs_hidden": true
    },
    "tags": []
   },
   "outputs": [
    {
     "name": "stdout",
     "output_type": "stream",
     "text": [
      "Requirement already satisfied: opt-einsum in d:\\hand sign prediction using tensorflow object detection\\hsptod\\lib\\site-packages (3.3.0)\n",
      "Requirement already satisfied: numpy>=1.7 in d:\\hand sign prediction using tensorflow object detection\\hsptod\\lib\\site-packages (from opt-einsum) (1.19.5)\n"
     ]
    }
   ],
   "source": [
    "!pip install opt-einsum"
   ]
  },
  {
   "cell_type": "code",
   "execution_count": 11,
   "id": "391ad6a2-e95c-432b-a9b7-63337ad2690c",
   "metadata": {
    "collapsed": true,
    "jupyter": {
     "outputs_hidden": true
    },
    "tags": []
   },
   "outputs": [
    {
     "name": "stdout",
     "output_type": "stream",
     "text": [
      "Requirement already satisfied: gast in d:\\hand sign prediction using tensorflow object detection\\hsptod\\lib\\site-packages (0.4.0)\n"
     ]
    }
   ],
   "source": [
    "!pip install gast"
   ]
  },
  {
   "cell_type": "code",
   "execution_count": 12,
   "id": "06362aaa-b75e-4a4d-812d-ec5e6bd1f60d",
   "metadata": {
    "collapsed": true,
    "jupyter": {
     "outputs_hidden": true
    },
    "tags": []
   },
   "outputs": [
    {
     "name": "stdout",
     "output_type": "stream",
     "text": [
      "Requirement already satisfied: astunparse in d:\\hand sign prediction using tensorflow object detection\\hsptod\\lib\\site-packages (1.6.3)\n",
      "Requirement already satisfied: six<2.0,>=1.6.1 in d:\\hand sign prediction using tensorflow object detection\\hsptod\\lib\\site-packages (from astunparse) (1.15.0)\n",
      "Requirement already satisfied: wheel<1.0,>=0.23.0 in d:\\hand sign prediction using tensorflow object detection\\hsptod\\lib\\site-packages (from astunparse) (0.36.2)\n"
     ]
    }
   ],
   "source": [
    "!pip install astunparse"
   ]
  },
  {
   "cell_type": "code",
   "execution_count": 13,
   "id": "d113aca0-064c-4f20-ab8b-36eb644059a1",
   "metadata": {
    "collapsed": true,
    "jupyter": {
     "outputs_hidden": true
    },
    "tags": []
   },
   "outputs": [
    {
     "name": "stdout",
     "output_type": "stream",
     "text": [
      "Requirement already satisfied: termcolor in d:\\hand sign prediction using tensorflow object detection\\hsptod\\lib\\site-packages (1.1.0)\n"
     ]
    }
   ],
   "source": [
    "!pip install termcolor"
   ]
  },
  {
   "cell_type": "code",
   "execution_count": 14,
   "id": "4e71e4d4-be07-44c1-bdb0-660895392d8a",
   "metadata": {
    "collapsed": true,
    "jupyter": {
     "outputs_hidden": true
    },
    "tags": []
   },
   "outputs": [
    {
     "name": "stdout",
     "output_type": "stream",
     "text": [
      "Requirement already satisfied: Keras-Preprocessing in d:\\hand sign prediction using tensorflow object detection\\hsptod\\lib\\site-packages (1.1.2)\n",
      "Requirement already satisfied: numpy>=1.9.1 in d:\\hand sign prediction using tensorflow object detection\\hsptod\\lib\\site-packages (from Keras-Preprocessing) (1.19.5)\n",
      "Requirement already satisfied: six>=1.9.0 in d:\\hand sign prediction using tensorflow object detection\\hsptod\\lib\\site-packages (from Keras-Preprocessing) (1.15.0)\n"
     ]
    }
   ],
   "source": [
    "!pip install Keras-Preprocessing"
   ]
  },
  {
   "cell_type": "code",
   "execution_count": 15,
   "id": "703c2dc3-f1bc-4997-b0eb-51e1fa76cb28",
   "metadata": {
    "collapsed": true,
    "jupyter": {
     "outputs_hidden": true
    },
    "tags": []
   },
   "outputs": [
    {
     "name": "stdout",
     "output_type": "stream",
     "text": [
      "Requirement already satisfied: flatbuffers in d:\\hand sign prediction using tensorflow object detection\\hsptod\\lib\\site-packages (1.12)\n"
     ]
    }
   ],
   "source": [
    "!pip install flatbuffers"
   ]
  },
  {
   "cell_type": "code",
   "execution_count": 16,
   "id": "06351bb4-5178-4373-aa7c-04ca2f2238c6",
   "metadata": {
    "collapsed": true,
    "jupyter": {
     "outputs_hidden": true
    },
    "tags": []
   },
   "outputs": [
    {
     "name": "stdout",
     "output_type": "stream",
     "text": [
      "Requirement already satisfied: keras in d:\\hand sign prediction using tensorflow object detection\\hsptod\\lib\\site-packages (2.4.3)\n",
      "Requirement already satisfied: pyyaml in d:\\hand sign prediction using tensorflow object detection\\hsptod\\lib\\site-packages (from keras) (5.4.1)\n",
      "Requirement already satisfied: scipy>=0.14 in d:\\hand sign prediction using tensorflow object detection\\hsptod\\lib\\site-packages (from keras) (1.7.0)\n",
      "Requirement already satisfied: h5py in d:\\hand sign prediction using tensorflow object detection\\hsptod\\lib\\site-packages (from keras) (3.1.0)\n",
      "Requirement already satisfied: numpy>=1.9.1 in d:\\hand sign prediction using tensorflow object detection\\hsptod\\lib\\site-packages (from keras) (1.19.5)\n",
      "Requirement already satisfied: cached-property in d:\\hand sign prediction using tensorflow object detection\\hsptod\\lib\\site-packages (from h5py->keras) (1.5.2)\n"
     ]
    }
   ],
   "source": [
    "!pip install keras"
   ]
  },
  {
   "cell_type": "code",
   "execution_count": 17,
   "id": "29526747-3f70-42ef-a123-2377da41bdac",
   "metadata": {
    "collapsed": true,
    "jupyter": {
     "outputs_hidden": true
    },
    "tags": []
   },
   "outputs": [
    {
     "name": "stdout",
     "output_type": "stream",
     "text": [
      "Requirement already satisfied: tensorflow in d:\\hand sign prediction using tensorflow object detection\\hsptod\\lib\\site-packages (2.5.0)\n",
      "Requirement already satisfied: absl-py~=0.10 in d:\\hand sign prediction using tensorflow object detection\\hsptod\\lib\\site-packages (from tensorflow) (0.13.0)\n",
      "Requirement already satisfied: keras-nightly~=2.5.0.dev in d:\\hand sign prediction using tensorflow object detection\\hsptod\\lib\\site-packages (from tensorflow) (2.5.0.dev2021032900)\n",
      "Requirement already satisfied: keras-preprocessing~=1.1.2 in d:\\hand sign prediction using tensorflow object detection\\hsptod\\lib\\site-packages (from tensorflow) (1.1.2)\n",
      "Requirement already satisfied: h5py~=3.1.0 in d:\\hand sign prediction using tensorflow object detection\\hsptod\\lib\\site-packages (from tensorflow) (3.1.0)\n",
      "Requirement already satisfied: wrapt~=1.12.1 in d:\\hand sign prediction using tensorflow object detection\\hsptod\\lib\\site-packages (from tensorflow) (1.12.1)\n",
      "Requirement already satisfied: google-pasta~=0.2 in d:\\hand sign prediction using tensorflow object detection\\hsptod\\lib\\site-packages (from tensorflow) (0.2.0)\n",
      "Requirement already satisfied: numpy~=1.19.2 in d:\\hand sign prediction using tensorflow object detection\\hsptod\\lib\\site-packages (from tensorflow) (1.19.5)\n",
      "Requirement already satisfied: flatbuffers~=1.12.0 in d:\\hand sign prediction using tensorflow object detection\\hsptod\\lib\\site-packages (from tensorflow) (1.12)\n",
      "Requirement already satisfied: termcolor~=1.1.0 in d:\\hand sign prediction using tensorflow object detection\\hsptod\\lib\\site-packages (from tensorflow) (1.1.0)\n",
      "Requirement already satisfied: astunparse~=1.6.3 in d:\\hand sign prediction using tensorflow object detection\\hsptod\\lib\\site-packages (from tensorflow) (1.6.3)\n",
      "Requirement already satisfied: opt-einsum~=3.3.0 in d:\\hand sign prediction using tensorflow object detection\\hsptod\\lib\\site-packages (from tensorflow) (3.3.0)\n",
      "Requirement already satisfied: six~=1.15.0 in d:\\hand sign prediction using tensorflow object detection\\hsptod\\lib\\site-packages (from tensorflow) (1.15.0)\n",
      "Requirement already satisfied: protobuf>=3.9.2 in d:\\hand sign prediction using tensorflow object detection\\hsptod\\lib\\site-packages (from tensorflow) (3.17.3)\n",
      "Requirement already satisfied: typing-extensions~=3.7.4 in d:\\hand sign prediction using tensorflow object detection\\hsptod\\lib\\site-packages (from tensorflow) (3.7.4.3)\n",
      "Requirement already satisfied: tensorboard~=2.5 in d:\\hand sign prediction using tensorflow object detection\\hsptod\\lib\\site-packages (from tensorflow) (2.5.0)\n",
      "Requirement already satisfied: tensorflow-estimator<2.6.0,>=2.5.0rc0 in d:\\hand sign prediction using tensorflow object detection\\hsptod\\lib\\site-packages (from tensorflow) (2.5.0)\n",
      "Requirement already satisfied: wheel~=0.35 in d:\\hand sign prediction using tensorflow object detection\\hsptod\\lib\\site-packages (from tensorflow) (0.36.2)\n",
      "Requirement already satisfied: grpcio~=1.34.0 in d:\\hand sign prediction using tensorflow object detection\\hsptod\\lib\\site-packages (from tensorflow) (1.34.1)\n",
      "Requirement already satisfied: gast==0.4.0 in d:\\hand sign prediction using tensorflow object detection\\hsptod\\lib\\site-packages (from tensorflow) (0.4.0)\n",
      "Requirement already satisfied: cached-property in d:\\hand sign prediction using tensorflow object detection\\hsptod\\lib\\site-packages (from h5py~=3.1.0->tensorflow) (1.5.2)\n",
      "Requirement already satisfied: setuptools>=41.0.0 in d:\\hand sign prediction using tensorflow object detection\\hsptod\\lib\\site-packages (from tensorboard~=2.5->tensorflow) (57.1.0)\n",
      "Requirement already satisfied: requests<3,>=2.21.0 in d:\\hand sign prediction using tensorflow object detection\\hsptod\\lib\\site-packages (from tensorboard~=2.5->tensorflow) (2.25.1)\n",
      "Requirement already satisfied: tensorboard-data-server<0.7.0,>=0.6.0 in d:\\hand sign prediction using tensorflow object detection\\hsptod\\lib\\site-packages (from tensorboard~=2.5->tensorflow) (0.6.1)\n",
      "Requirement already satisfied: markdown>=2.6.8 in d:\\hand sign prediction using tensorflow object detection\\hsptod\\lib\\site-packages (from tensorboard~=2.5->tensorflow) (3.3.4)\n",
      "Requirement already satisfied: google-auth-oauthlib<0.5,>=0.4.1 in d:\\hand sign prediction using tensorflow object detection\\hsptod\\lib\\site-packages (from tensorboard~=2.5->tensorflow) (0.4.4)\n",
      "Requirement already satisfied: google-auth<2,>=1.6.3 in d:\\hand sign prediction using tensorflow object detection\\hsptod\\lib\\site-packages (from tensorboard~=2.5->tensorflow) (1.32.1)\n",
      "Requirement already satisfied: tensorboard-plugin-wit>=1.6.0 in d:\\hand sign prediction using tensorflow object detection\\hsptod\\lib\\site-packages (from tensorboard~=2.5->tensorflow) (1.8.0)\n",
      "Requirement already satisfied: werkzeug>=0.11.15 in d:\\hand sign prediction using tensorflow object detection\\hsptod\\lib\\site-packages (from tensorboard~=2.5->tensorflow) (2.0.1)\n",
      "Requirement already satisfied: pyasn1-modules>=0.2.1 in d:\\hand sign prediction using tensorflow object detection\\hsptod\\lib\\site-packages (from google-auth<2,>=1.6.3->tensorboard~=2.5->tensorflow) (0.2.8)\n",
      "Requirement already satisfied: rsa<5,>=3.1.4 in d:\\hand sign prediction using tensorflow object detection\\hsptod\\lib\\site-packages (from google-auth<2,>=1.6.3->tensorboard~=2.5->tensorflow) (4.7.2)\n",
      "Requirement already satisfied: cachetools<5.0,>=2.0.0 in d:\\hand sign prediction using tensorflow object detection\\hsptod\\lib\\site-packages (from google-auth<2,>=1.6.3->tensorboard~=2.5->tensorflow) (4.2.2)\n",
      "Requirement already satisfied: requests-oauthlib>=0.7.0 in d:\\hand sign prediction using tensorflow object detection\\hsptod\\lib\\site-packages (from google-auth-oauthlib<0.5,>=0.4.1->tensorboard~=2.5->tensorflow) (1.3.0)\n",
      "Requirement already satisfied: importlib-metadata in d:\\hand sign prediction using tensorflow object detection\\hsptod\\lib\\site-packages (from markdown>=2.6.8->tensorboard~=2.5->tensorflow) (3.10.1)\n",
      "Requirement already satisfied: pyasn1<0.5.0,>=0.4.6 in d:\\hand sign prediction using tensorflow object detection\\hsptod\\lib\\site-packages (from pyasn1-modules>=0.2.1->google-auth<2,>=1.6.3->tensorboard~=2.5->tensorflow) (0.4.8)\n",
      "Requirement already satisfied: idna<3,>=2.5 in d:\\hand sign prediction using tensorflow object detection\\hsptod\\lib\\site-packages (from requests<3,>=2.21.0->tensorboard~=2.5->tensorflow) (2.10)\n",
      "Requirement already satisfied: urllib3<1.27,>=1.21.1 in d:\\hand sign prediction using tensorflow object detection\\hsptod\\lib\\site-packages (from requests<3,>=2.21.0->tensorboard~=2.5->tensorflow) (1.26.6)\n",
      "Requirement already satisfied: certifi>=2017.4.17 in d:\\hand sign prediction using tensorflow object detection\\hsptod\\lib\\site-packages (from requests<3,>=2.21.0->tensorboard~=2.5->tensorflow) (2021.5.30)\n",
      "Requirement already satisfied: chardet<5,>=3.0.2 in d:\\hand sign prediction using tensorflow object detection\\hsptod\\lib\\site-packages (from requests<3,>=2.21.0->tensorboard~=2.5->tensorflow) (4.0.0)\n",
      "Requirement already satisfied: oauthlib>=3.0.0 in d:\\hand sign prediction using tensorflow object detection\\hsptod\\lib\\site-packages (from requests-oauthlib>=0.7.0->google-auth-oauthlib<0.5,>=0.4.1->tensorboard~=2.5->tensorflow) (3.1.1)\n",
      "Requirement already satisfied: zipp>=0.5 in d:\\hand sign prediction using tensorflow object detection\\hsptod\\lib\\site-packages (from importlib-metadata->markdown>=2.6.8->tensorboard~=2.5->tensorflow) (3.5.0)\n"
     ]
    }
   ],
   "source": [
    "!pip install tensorflow --upgrade"
   ]
  },
  {
   "cell_type": "code",
   "execution_count": 18,
   "id": "bdfc4162-8a97-484b-9ae0-705eb0fde08e",
   "metadata": {
    "collapsed": true,
    "jupyter": {
     "outputs_hidden": true
    },
    "tags": []
   },
   "outputs": [
    {
     "name": "stdout",
     "output_type": "stream",
     "text": [
      "Requirement already satisfied: Pillow in d:\\hand sign prediction using tensorflow object detection\\hsptod\\lib\\site-packages (8.3.1)\n"
     ]
    }
   ],
   "source": [
    "!pip install Pillow"
   ]
  },
  {
   "cell_type": "code",
   "execution_count": 19,
   "id": "f64c4c16-94a6-4fe4-be93-839fac212590",
   "metadata": {
    "collapsed": true,
    "jupyter": {
     "outputs_hidden": true
    },
    "tags": []
   },
   "outputs": [
    {
     "name": "stdout",
     "output_type": "stream",
     "text": [
      "Requirement already satisfied: protobuf in d:\\hand sign prediction using tensorflow object detection\\hsptod\\lib\\site-packages (3.17.3)\n",
      "Requirement already satisfied: six>=1.9 in d:\\hand sign prediction using tensorflow object detection\\hsptod\\lib\\site-packages (from protobuf) (1.15.0)\n"
     ]
    }
   ],
   "source": [
    "!pip install protobuf"
   ]
  },
  {
   "cell_type": "code",
   "execution_count": 20,
   "id": "820c6429-2545-455d-a77f-bed6fe5be02a",
   "metadata": {
    "collapsed": true,
    "jupyter": {
     "outputs_hidden": true
    },
    "tags": []
   },
   "outputs": [
    {
     "name": "stdout",
     "output_type": "stream",
     "text": [
      "Found existing installation: protobuf 3.17.3\n",
      "Uninstalling protobuf-3.17.3:\n",
      "  Successfully uninstalled protobuf-3.17.3\n",
      "Found existing installation: matplotlib 3.2.0\n",
      "Uninstalling matplotlib-3.2.0:\n",
      "  Successfully uninstalled matplotlib-3.2.0\n"
     ]
    }
   ],
   "source": [
    "!pip uninstall protobuf matplotlib -y"
   ]
  },
  {
   "cell_type": "code",
   "execution_count": 21,
   "id": "3b8d907a-541b-444f-8f21-c83e393dc355",
   "metadata": {
    "collapsed": true,
    "jupyter": {
     "outputs_hidden": true
    },
    "tags": []
   },
   "outputs": [
    {
     "name": "stdout",
     "output_type": "stream",
     "text": [
      "Collecting protobuf\n",
      "  Using cached protobuf-3.17.3-cp37-cp37m-win_amd64.whl (909 kB)\n",
      "Collecting matplotlib==3.2\n",
      "  Using cached matplotlib-3.2.0-cp37-cp37m-win_amd64.whl (9.2 MB)\n",
      "Requirement already satisfied: numpy>=1.11 in d:\\hand sign prediction using tensorflow object detection\\hsptod\\lib\\site-packages (from matplotlib==3.2) (1.19.5)\n",
      "Requirement already satisfied: kiwisolver>=1.0.1 in d:\\hand sign prediction using tensorflow object detection\\hsptod\\lib\\site-packages (from matplotlib==3.2) (1.3.1)\n",
      "Requirement already satisfied: python-dateutil>=2.1 in d:\\hand sign prediction using tensorflow object detection\\hsptod\\lib\\site-packages (from matplotlib==3.2) (2.8.1)\n",
      "Requirement already satisfied: cycler>=0.10 in d:\\hand sign prediction using tensorflow object detection\\hsptod\\lib\\site-packages (from matplotlib==3.2) (0.10.0)\n",
      "Requirement already satisfied: pyparsing!=2.0.4,!=2.1.2,!=2.1.6,>=2.0.1 in d:\\hand sign prediction using tensorflow object detection\\hsptod\\lib\\site-packages (from matplotlib==3.2) (2.4.7)\n",
      "Requirement already satisfied: six in d:\\hand sign prediction using tensorflow object detection\\hsptod\\lib\\site-packages (from cycler>=0.10->matplotlib==3.2) (1.15.0)\n",
      "Installing collected packages: protobuf, matplotlib\n",
      "Successfully installed matplotlib-3.2.0 protobuf-3.17.3\n"
     ]
    }
   ],
   "source": [
    "!pip install protobuf matplotlib==3.2"
   ]
  },
  {
   "cell_type": "code",
   "execution_count": 22,
   "id": "4a8ccca6-e070-4ce4-8fa2-18ccabd59008",
   "metadata": {
    "collapsed": true,
    "jupyter": {
     "outputs_hidden": true
    },
    "tags": []
   },
   "outputs": [
    {
     "name": "stdout",
     "output_type": "stream",
     "text": [
      "Requirement already satisfied: pyyaml in d:\\hand sign prediction using tensorflow object detection\\hsptod\\lib\\site-packages (5.4.1)\n"
     ]
    }
   ],
   "source": [
    "!pip install pyyaml"
   ]
  },
  {
   "cell_type": "code",
   "execution_count": 23,
   "id": "658c0849-881e-4bc5-99ae-09505171c3b0",
   "metadata": {
    "collapsed": true,
    "jupyter": {
     "outputs_hidden": true
    },
    "tags": []
   },
   "outputs": [
    {
     "name": "stdout",
     "output_type": "stream",
     "text": [
      "Requirement already satisfied: pytz in d:\\hand sign prediction using tensorflow object detection\\hsptod\\lib\\site-packages (2021.1)\n"
     ]
    }
   ],
   "source": [
    "!pip install pytz"
   ]
  },
  {
   "cell_type": "code",
   "execution_count": 24,
   "id": "23a8b1de-7e58-4b60-8bc0-b8cc15438268",
   "metadata": {
    "collapsed": true,
    "jupyter": {
     "outputs_hidden": true
    },
    "tags": []
   },
   "outputs": [
    {
     "name": "stdout",
     "output_type": "stream",
     "text": [
      "Found existing installation: pycocotools 2.0.2\n",
      "Uninstalling pycocotools-2.0.2:\n",
      "  Successfully uninstalled pycocotools-2.0.2\n",
      "Collecting pycocotools\n",
      "  Using cached pycocotools-2.0.2-cp37-cp37m-win_amd64.whl\n",
      "Requirement already satisfied: setuptools>=18.0 in d:\\hand sign prediction using tensorflow object detection\\hsptod\\lib\\site-packages (from pycocotools) (57.1.0)\n",
      "Requirement already satisfied: matplotlib>=2.1.0 in d:\\hand sign prediction using tensorflow object detection\\hsptod\\lib\\site-packages (from pycocotools) (3.2.0)\n",
      "Requirement already satisfied: cython>=0.27.3 in d:\\hand sign prediction using tensorflow object detection\\hsptod\\lib\\site-packages (from pycocotools) (0.29.23)\n",
      "Requirement already satisfied: kiwisolver>=1.0.1 in d:\\hand sign prediction using tensorflow object detection\\hsptod\\lib\\site-packages (from matplotlib>=2.1.0->pycocotools) (1.3.1)\n",
      "Requirement already satisfied: pyparsing!=2.0.4,!=2.1.2,!=2.1.6,>=2.0.1 in d:\\hand sign prediction using tensorflow object detection\\hsptod\\lib\\site-packages (from matplotlib>=2.1.0->pycocotools) (2.4.7)\n",
      "Requirement already satisfied: cycler>=0.10 in d:\\hand sign prediction using tensorflow object detection\\hsptod\\lib\\site-packages (from matplotlib>=2.1.0->pycocotools) (0.10.0)\n",
      "Requirement already satisfied: numpy>=1.11 in d:\\hand sign prediction using tensorflow object detection\\hsptod\\lib\\site-packages (from matplotlib>=2.1.0->pycocotools) (1.19.5)\n",
      "Requirement already satisfied: python-dateutil>=2.1 in d:\\hand sign prediction using tensorflow object detection\\hsptod\\lib\\site-packages (from matplotlib>=2.1.0->pycocotools) (2.8.1)\n",
      "Requirement already satisfied: six in d:\\hand sign prediction using tensorflow object detection\\hsptod\\lib\\site-packages (from cycler>=0.10->matplotlib>=2.1.0->pycocotools) (1.15.0)\n",
      "Installing collected packages: pycocotools\n",
      "Successfully installed pycocotools-2.0.2\n"
     ]
    }
   ],
   "source": [
    "!pip uninstall pycocotools -y\n",
    "!pip install pycocotools"
   ]
  },
  {
   "cell_type": "code",
   "execution_count": 25,
   "id": "7ce21789-e7f4-43c9-afc3-b11d4eeb54cb",
   "metadata": {
    "collapsed": true,
    "jupyter": {
     "outputs_hidden": true
    },
    "tags": []
   },
   "outputs": [
    {
     "name": "stdout",
     "output_type": "stream",
     "text": [
      "Requirement already satisfied: typeguard in d:\\hand sign prediction using tensorflow object detection\\hsptod\\lib\\site-packages (2.12.1)\n"
     ]
    }
   ],
   "source": [
    "!pip install typeguard"
   ]
  },
  {
   "cell_type": "code",
   "execution_count": 26,
   "id": "fc07a57f-0b0a-4d1c-99f3-8a41abc202b8",
   "metadata": {
    "collapsed": true,
    "jupyter": {
     "outputs_hidden": true
    },
    "tags": []
   },
   "outputs": [
    {
     "name": "stdout",
     "output_type": "stream",
     "text": [
      "Requirement already satisfied: gin-config==0.1.1 in d:\\hand sign prediction using tensorflow object detection\\hsptod\\lib\\site-packages (0.1.1)\n",
      "Requirement already satisfied: six>=1.10.0 in d:\\hand sign prediction using tensorflow object detection\\hsptod\\lib\\site-packages (from gin-config==0.1.1) (1.15.0)\n"
     ]
    }
   ],
   "source": [
    "!pip install gin-config==0.1.1"
   ]
  },
  {
   "cell_type": "code",
   "execution_count": 27,
   "id": "bdc6dc00-06cc-425e-b8f1-2a58c9fc6b35",
   "metadata": {
    "collapsed": true,
    "jupyter": {
     "outputs_hidden": true
    },
    "tags": []
   },
   "outputs": [
    {
     "name": "stdout",
     "output_type": "stream",
     "text": [
      "Requirement already satisfied: tensorflow==2.5.0 in d:\\hand sign prediction using tensorflow object detection\\hsptod\\lib\\site-packages (2.5.0)\n",
      "Requirement already satisfied: protobuf>=3.9.2 in d:\\hand sign prediction using tensorflow object detection\\hsptod\\lib\\site-packages (from tensorflow==2.5.0) (3.17.3)\n",
      "Requirement already satisfied: google-pasta~=0.2 in d:\\hand sign prediction using tensorflow object detection\\hsptod\\lib\\site-packages (from tensorflow==2.5.0) (0.2.0)\n",
      "Requirement already satisfied: tensorflow-estimator<2.6.0,>=2.5.0rc0 in d:\\hand sign prediction using tensorflow object detection\\hsptod\\lib\\site-packages (from tensorflow==2.5.0) (2.5.0)\n",
      "Requirement already satisfied: typing-extensions~=3.7.4 in d:\\hand sign prediction using tensorflow object detection\\hsptod\\lib\\site-packages (from tensorflow==2.5.0) (3.7.4.3)\n",
      "Requirement already satisfied: keras-preprocessing~=1.1.2 in d:\\hand sign prediction using tensorflow object detection\\hsptod\\lib\\site-packages (from tensorflow==2.5.0) (1.1.2)\n",
      "Requirement already satisfied: opt-einsum~=3.3.0 in d:\\hand sign prediction using tensorflow object detection\\hsptod\\lib\\site-packages (from tensorflow==2.5.0) (3.3.0)\n",
      "Requirement already satisfied: keras-nightly~=2.5.0.dev in d:\\hand sign prediction using tensorflow object detection\\hsptod\\lib\\site-packages (from tensorflow==2.5.0) (2.5.0.dev2021032900)\n",
      "Requirement already satisfied: astunparse~=1.6.3 in d:\\hand sign prediction using tensorflow object detection\\hsptod\\lib\\site-packages (from tensorflow==2.5.0) (1.6.3)\n",
      "Requirement already satisfied: absl-py~=0.10 in d:\\hand sign prediction using tensorflow object detection\\hsptod\\lib\\site-packages (from tensorflow==2.5.0) (0.13.0)\n",
      "Requirement already satisfied: tensorboard~=2.5 in d:\\hand sign prediction using tensorflow object detection\\hsptod\\lib\\site-packages (from tensorflow==2.5.0) (2.5.0)\n",
      "Requirement already satisfied: grpcio~=1.34.0 in d:\\hand sign prediction using tensorflow object detection\\hsptod\\lib\\site-packages (from tensorflow==2.5.0) (1.34.1)\n",
      "Requirement already satisfied: h5py~=3.1.0 in d:\\hand sign prediction using tensorflow object detection\\hsptod\\lib\\site-packages (from tensorflow==2.5.0) (3.1.0)\n",
      "Requirement already satisfied: wheel~=0.35 in d:\\hand sign prediction using tensorflow object detection\\hsptod\\lib\\site-packages (from tensorflow==2.5.0) (0.36.2)\n",
      "Requirement already satisfied: gast==0.4.0 in d:\\hand sign prediction using tensorflow object detection\\hsptod\\lib\\site-packages (from tensorflow==2.5.0) (0.4.0)\n",
      "Requirement already satisfied: wrapt~=1.12.1 in d:\\hand sign prediction using tensorflow object detection\\hsptod\\lib\\site-packages (from tensorflow==2.5.0) (1.12.1)\n",
      "Requirement already satisfied: numpy~=1.19.2 in d:\\hand sign prediction using tensorflow object detection\\hsptod\\lib\\site-packages (from tensorflow==2.5.0) (1.19.5)\n",
      "Requirement already satisfied: flatbuffers~=1.12.0 in d:\\hand sign prediction using tensorflow object detection\\hsptod\\lib\\site-packages (from tensorflow==2.5.0) (1.12)\n",
      "Requirement already satisfied: six~=1.15.0 in d:\\hand sign prediction using tensorflow object detection\\hsptod\\lib\\site-packages (from tensorflow==2.5.0) (1.15.0)\n",
      "Requirement already satisfied: termcolor~=1.1.0 in d:\\hand sign prediction using tensorflow object detection\\hsptod\\lib\\site-packages (from tensorflow==2.5.0) (1.1.0)\n",
      "Requirement already satisfied: cached-property in d:\\hand sign prediction using tensorflow object detection\\hsptod\\lib\\site-packages (from h5py~=3.1.0->tensorflow==2.5.0) (1.5.2)\n",
      "Requirement already satisfied: google-auth<2,>=1.6.3 in d:\\hand sign prediction using tensorflow object detection\\hsptod\\lib\\site-packages (from tensorboard~=2.5->tensorflow==2.5.0) (1.32.1)\n",
      "Requirement already satisfied: google-auth-oauthlib<0.5,>=0.4.1 in d:\\hand sign prediction using tensorflow object detection\\hsptod\\lib\\site-packages (from tensorboard~=2.5->tensorflow==2.5.0) (0.4.4)\n",
      "Requirement already satisfied: tensorboard-data-server<0.7.0,>=0.6.0 in d:\\hand sign prediction using tensorflow object detection\\hsptod\\lib\\site-packages (from tensorboard~=2.5->tensorflow==2.5.0) (0.6.1)\n",
      "Requirement already satisfied: requests<3,>=2.21.0 in d:\\hand sign prediction using tensorflow object detection\\hsptod\\lib\\site-packages (from tensorboard~=2.5->tensorflow==2.5.0) (2.25.1)\n",
      "Requirement already satisfied: tensorboard-plugin-wit>=1.6.0 in d:\\hand sign prediction using tensorflow object detection\\hsptod\\lib\\site-packages (from tensorboard~=2.5->tensorflow==2.5.0) (1.8.0)\n",
      "Requirement already satisfied: markdown>=2.6.8 in d:\\hand sign prediction using tensorflow object detection\\hsptod\\lib\\site-packages (from tensorboard~=2.5->tensorflow==2.5.0) (3.3.4)\n",
      "Requirement already satisfied: werkzeug>=0.11.15 in d:\\hand sign prediction using tensorflow object detection\\hsptod\\lib\\site-packages (from tensorboard~=2.5->tensorflow==2.5.0) (2.0.1)\n",
      "Requirement already satisfied: setuptools>=41.0.0 in d:\\hand sign prediction using tensorflow object detection\\hsptod\\lib\\site-packages (from tensorboard~=2.5->tensorflow==2.5.0) (57.1.0)\n",
      "Requirement already satisfied: rsa<5,>=3.1.4 in d:\\hand sign prediction using tensorflow object detection\\hsptod\\lib\\site-packages (from google-auth<2,>=1.6.3->tensorboard~=2.5->tensorflow==2.5.0) (4.7.2)\n",
      "Requirement already satisfied: cachetools<5.0,>=2.0.0 in d:\\hand sign prediction using tensorflow object detection\\hsptod\\lib\\site-packages (from google-auth<2,>=1.6.3->tensorboard~=2.5->tensorflow==2.5.0) (4.2.2)\n",
      "Requirement already satisfied: pyasn1-modules>=0.2.1 in d:\\hand sign prediction using tensorflow object detection\\hsptod\\lib\\site-packages (from google-auth<2,>=1.6.3->tensorboard~=2.5->tensorflow==2.5.0) (0.2.8)\n",
      "Requirement already satisfied: requests-oauthlib>=0.7.0 in d:\\hand sign prediction using tensorflow object detection\\hsptod\\lib\\site-packages (from google-auth-oauthlib<0.5,>=0.4.1->tensorboard~=2.5->tensorflow==2.5.0) (1.3.0)\n",
      "Requirement already satisfied: importlib-metadata in d:\\hand sign prediction using tensorflow object detection\\hsptod\\lib\\site-packages (from markdown>=2.6.8->tensorboard~=2.5->tensorflow==2.5.0) (3.10.1)\n",
      "Requirement already satisfied: pyasn1<0.5.0,>=0.4.6 in d:\\hand sign prediction using tensorflow object detection\\hsptod\\lib\\site-packages (from pyasn1-modules>=0.2.1->google-auth<2,>=1.6.3->tensorboard~=2.5->tensorflow==2.5.0) (0.4.8)\n",
      "Requirement already satisfied: chardet<5,>=3.0.2 in d:\\hand sign prediction using tensorflow object detection\\hsptod\\lib\\site-packages (from requests<3,>=2.21.0->tensorboard~=2.5->tensorflow==2.5.0) (4.0.0)\n",
      "Requirement already satisfied: urllib3<1.27,>=1.21.1 in d:\\hand sign prediction using tensorflow object detection\\hsptod\\lib\\site-packages (from requests<3,>=2.21.0->tensorboard~=2.5->tensorflow==2.5.0) (1.26.6)\n",
      "Requirement already satisfied: certifi>=2017.4.17 in d:\\hand sign prediction using tensorflow object detection\\hsptod\\lib\\site-packages (from requests<3,>=2.21.0->tensorboard~=2.5->tensorflow==2.5.0) (2021.5.30)\n",
      "Requirement already satisfied: idna<3,>=2.5 in d:\\hand sign prediction using tensorflow object detection\\hsptod\\lib\\site-packages (from requests<3,>=2.21.0->tensorboard~=2.5->tensorflow==2.5.0) (2.10)\n",
      "Requirement already satisfied: oauthlib>=3.0.0 in d:\\hand sign prediction using tensorflow object detection\\hsptod\\lib\\site-packages (from requests-oauthlib>=0.7.0->google-auth-oauthlib<0.5,>=0.4.1->tensorboard~=2.5->tensorflow==2.5.0) (3.1.1)\n",
      "Requirement already satisfied: zipp>=0.5 in d:\\hand sign prediction using tensorflow object detection\\hsptod\\lib\\site-packages (from importlib-metadata->markdown>=2.6.8->tensorboard~=2.5->tensorflow==2.5.0) (3.5.0)\n"
     ]
    }
   ],
   "source": [
    "!pip install tensorflow==2.5.0"
   ]
  },
  {
   "cell_type": "code",
   "execution_count": 28,
   "id": "13eb5864-5694-4a43-956c-9cc3d9e7adf9",
   "metadata": {
    "collapsed": true,
    "jupyter": {
     "outputs_hidden": true
    },
    "tags": []
   },
   "outputs": [
    {
     "name": "stdout",
     "output_type": "stream",
     "text": [
      "Requirement already satisfied: tensorflow-gpu==2.5.0 in d:\\hand sign prediction using tensorflow object detection\\hsptod\\lib\\site-packages (2.5.0)\n",
      "Requirement already satisfied: keras-nightly~=2.5.0.dev in d:\\hand sign prediction using tensorflow object detection\\hsptod\\lib\\site-packages (from tensorflow-gpu==2.5.0) (2.5.0.dev2021032900)\n",
      "Requirement already satisfied: numpy~=1.19.2 in d:\\hand sign prediction using tensorflow object detection\\hsptod\\lib\\site-packages (from tensorflow-gpu==2.5.0) (1.19.5)\n",
      "Requirement already satisfied: tensorflow-estimator<2.6.0,>=2.5.0rc0 in d:\\hand sign prediction using tensorflow object detection\\hsptod\\lib\\site-packages (from tensorflow-gpu==2.5.0) (2.5.0)\n",
      "Requirement already satisfied: six~=1.15.0 in d:\\hand sign prediction using tensorflow object detection\\hsptod\\lib\\site-packages (from tensorflow-gpu==2.5.0) (1.15.0)\n",
      "Requirement already satisfied: keras-preprocessing~=1.1.2 in d:\\hand sign prediction using tensorflow object detection\\hsptod\\lib\\site-packages (from tensorflow-gpu==2.5.0) (1.1.2)\n",
      "Requirement already satisfied: wheel~=0.35 in d:\\hand sign prediction using tensorflow object detection\\hsptod\\lib\\site-packages (from tensorflow-gpu==2.5.0) (0.36.2)\n",
      "Requirement already satisfied: absl-py~=0.10 in d:\\hand sign prediction using tensorflow object detection\\hsptod\\lib\\site-packages (from tensorflow-gpu==2.5.0) (0.13.0)\n",
      "Requirement already satisfied: opt-einsum~=3.3.0 in d:\\hand sign prediction using tensorflow object detection\\hsptod\\lib\\site-packages (from tensorflow-gpu==2.5.0) (3.3.0)\n",
      "Requirement already satisfied: termcolor~=1.1.0 in d:\\hand sign prediction using tensorflow object detection\\hsptod\\lib\\site-packages (from tensorflow-gpu==2.5.0) (1.1.0)\n",
      "Requirement already satisfied: gast==0.4.0 in d:\\hand sign prediction using tensorflow object detection\\hsptod\\lib\\site-packages (from tensorflow-gpu==2.5.0) (0.4.0)\n",
      "Requirement already satisfied: grpcio~=1.34.0 in d:\\hand sign prediction using tensorflow object detection\\hsptod\\lib\\site-packages (from tensorflow-gpu==2.5.0) (1.34.1)\n",
      "Requirement already satisfied: protobuf>=3.9.2 in d:\\hand sign prediction using tensorflow object detection\\hsptod\\lib\\site-packages (from tensorflow-gpu==2.5.0) (3.17.3)\n",
      "Requirement already satisfied: astunparse~=1.6.3 in d:\\hand sign prediction using tensorflow object detection\\hsptod\\lib\\site-packages (from tensorflow-gpu==2.5.0) (1.6.3)\n",
      "Requirement already satisfied: wrapt~=1.12.1 in d:\\hand sign prediction using tensorflow object detection\\hsptod\\lib\\site-packages (from tensorflow-gpu==2.5.0) (1.12.1)\n",
      "Requirement already satisfied: typing-extensions~=3.7.4 in d:\\hand sign prediction using tensorflow object detection\\hsptod\\lib\\site-packages (from tensorflow-gpu==2.5.0) (3.7.4.3)\n",
      "Requirement already satisfied: tensorboard~=2.5 in d:\\hand sign prediction using tensorflow object detection\\hsptod\\lib\\site-packages (from tensorflow-gpu==2.5.0) (2.5.0)\n",
      "Requirement already satisfied: flatbuffers~=1.12.0 in d:\\hand sign prediction using tensorflow object detection\\hsptod\\lib\\site-packages (from tensorflow-gpu==2.5.0) (1.12)\n",
      "Requirement already satisfied: h5py~=3.1.0 in d:\\hand sign prediction using tensorflow object detection\\hsptod\\lib\\site-packages (from tensorflow-gpu==2.5.0) (3.1.0)\n",
      "Requirement already satisfied: google-pasta~=0.2 in d:\\hand sign prediction using tensorflow object detection\\hsptod\\lib\\site-packages (from tensorflow-gpu==2.5.0) (0.2.0)\n",
      "Requirement already satisfied: cached-property in d:\\hand sign prediction using tensorflow object detection\\hsptod\\lib\\site-packages (from h5py~=3.1.0->tensorflow-gpu==2.5.0) (1.5.2)\n",
      "Requirement already satisfied: google-auth<2,>=1.6.3 in d:\\hand sign prediction using tensorflow object detection\\hsptod\\lib\\site-packages (from tensorboard~=2.5->tensorflow-gpu==2.5.0) (1.32.1)\n",
      "Requirement already satisfied: tensorboard-plugin-wit>=1.6.0 in d:\\hand sign prediction using tensorflow object detection\\hsptod\\lib\\site-packages (from tensorboard~=2.5->tensorflow-gpu==2.5.0) (1.8.0)\n",
      "Requirement already satisfied: markdown>=2.6.8 in d:\\hand sign prediction using tensorflow object detection\\hsptod\\lib\\site-packages (from tensorboard~=2.5->tensorflow-gpu==2.5.0) (3.3.4)\n",
      "Requirement already satisfied: setuptools>=41.0.0 in d:\\hand sign prediction using tensorflow object detection\\hsptod\\lib\\site-packages (from tensorboard~=2.5->tensorflow-gpu==2.5.0) (57.1.0)\n",
      "Requirement already satisfied: werkzeug>=0.11.15 in d:\\hand sign prediction using tensorflow object detection\\hsptod\\lib\\site-packages (from tensorboard~=2.5->tensorflow-gpu==2.5.0) (2.0.1)\n",
      "Requirement already satisfied: tensorboard-data-server<0.7.0,>=0.6.0 in d:\\hand sign prediction using tensorflow object detection\\hsptod\\lib\\site-packages (from tensorboard~=2.5->tensorflow-gpu==2.5.0) (0.6.1)\n",
      "Requirement already satisfied: google-auth-oauthlib<0.5,>=0.4.1 in d:\\hand sign prediction using tensorflow object detection\\hsptod\\lib\\site-packages (from tensorboard~=2.5->tensorflow-gpu==2.5.0) (0.4.4)\n",
      "Requirement already satisfied: requests<3,>=2.21.0 in d:\\hand sign prediction using tensorflow object detection\\hsptod\\lib\\site-packages (from tensorboard~=2.5->tensorflow-gpu==2.5.0) (2.25.1)\n",
      "Requirement already satisfied: cachetools<5.0,>=2.0.0 in d:\\hand sign prediction using tensorflow object detection\\hsptod\\lib\\site-packages (from google-auth<2,>=1.6.3->tensorboard~=2.5->tensorflow-gpu==2.5.0) (4.2.2)\n",
      "Requirement already satisfied: pyasn1-modules>=0.2.1 in d:\\hand sign prediction using tensorflow object detection\\hsptod\\lib\\site-packages (from google-auth<2,>=1.6.3->tensorboard~=2.5->tensorflow-gpu==2.5.0) (0.2.8)\n",
      "Requirement already satisfied: rsa<5,>=3.1.4 in d:\\hand sign prediction using tensorflow object detection\\hsptod\\lib\\site-packages (from google-auth<2,>=1.6.3->tensorboard~=2.5->tensorflow-gpu==2.5.0) (4.7.2)\n",
      "Requirement already satisfied: requests-oauthlib>=0.7.0 in d:\\hand sign prediction using tensorflow object detection\\hsptod\\lib\\site-packages (from google-auth-oauthlib<0.5,>=0.4.1->tensorboard~=2.5->tensorflow-gpu==2.5.0) (1.3.0)\n",
      "Requirement already satisfied: importlib-metadata in d:\\hand sign prediction using tensorflow object detection\\hsptod\\lib\\site-packages (from markdown>=2.6.8->tensorboard~=2.5->tensorflow-gpu==2.5.0) (3.10.1)\n",
      "Requirement already satisfied: pyasn1<0.5.0,>=0.4.6 in d:\\hand sign prediction using tensorflow object detection\\hsptod\\lib\\site-packages (from pyasn1-modules>=0.2.1->google-auth<2,>=1.6.3->tensorboard~=2.5->tensorflow-gpu==2.5.0) (0.4.8)\n",
      "Requirement already satisfied: urllib3<1.27,>=1.21.1 in d:\\hand sign prediction using tensorflow object detection\\hsptod\\lib\\site-packages (from requests<3,>=2.21.0->tensorboard~=2.5->tensorflow-gpu==2.5.0) (1.26.6)\n",
      "Requirement already satisfied: idna<3,>=2.5 in d:\\hand sign prediction using tensorflow object detection\\hsptod\\lib\\site-packages (from requests<3,>=2.21.0->tensorboard~=2.5->tensorflow-gpu==2.5.0) (2.10)\n",
      "Requirement already satisfied: chardet<5,>=3.0.2 in d:\\hand sign prediction using tensorflow object detection\\hsptod\\lib\\site-packages (from requests<3,>=2.21.0->tensorboard~=2.5->tensorflow-gpu==2.5.0) (4.0.0)\n",
      "Requirement already satisfied: certifi>=2017.4.17 in d:\\hand sign prediction using tensorflow object detection\\hsptod\\lib\\site-packages (from requests<3,>=2.21.0->tensorboard~=2.5->tensorflow-gpu==2.5.0) (2021.5.30)\n",
      "Requirement already satisfied: oauthlib>=3.0.0 in d:\\hand sign prediction using tensorflow object detection\\hsptod\\lib\\site-packages (from requests-oauthlib>=0.7.0->google-auth-oauthlib<0.5,>=0.4.1->tensorboard~=2.5->tensorflow-gpu==2.5.0) (3.1.1)\n",
      "Requirement already satisfied: zipp>=0.5 in d:\\hand sign prediction using tensorflow object detection\\hsptod\\lib\\site-packages (from importlib-metadata->markdown>=2.6.8->tensorboard~=2.5->tensorflow-gpu==2.5.0) (3.5.0)\n"
     ]
    }
   ],
   "source": [
    "!pip install tensorflow-gpu==2.5.0"
   ]
  },
  {
   "cell_type": "code",
   "execution_count": 31,
   "id": "e70359f3-3577-43b9-a54d-6096cdceec4c",
   "metadata": {},
   "outputs": [
    {
     "name": "stdout",
     "output_type": "stream",
     "text": [
      "Collecting tf-models-official\n",
      "  Downloading tf_models_official-2.5.0-py2.py3-none-any.whl (1.6 MB)\n",
      "Requirement already satisfied: six in d:\\hand sign prediction using tensorflow object detection\\hsptod\\lib\\site-packages (from tf-models-official) (1.15.0)\n",
      "Requirement already satisfied: matplotlib in d:\\hand sign prediction using tensorflow object detection\\hsptod\\lib\\site-packages (from tf-models-official) (3.2.0)\n",
      "Requirement already satisfied: tensorflow>=2.5.0 in d:\\hand sign prediction using tensorflow object detection\\hsptod\\lib\\site-packages (from tf-models-official) (2.5.0)\n",
      "Requirement already satisfied: pandas>=0.22.0 in d:\\hand sign prediction using tensorflow object detection\\hsptod\\lib\\site-packages (from tf-models-official) (1.3.0)\n",
      "Requirement already satisfied: pycocotools in d:\\hand sign prediction using tensorflow object detection\\hsptod\\lib\\site-packages (from tf-models-official) (2.0.2)\n",
      "Collecting opencv-python-headless\n",
      "  Downloading opencv_python_headless-4.5.3.56-cp37-cp37m-win_amd64.whl (34.8 MB)\n",
      "Collecting seqeval\n",
      "  Downloading seqeval-1.2.2.tar.gz (43 kB)\n",
      "Collecting py-cpuinfo>=3.3.0\n",
      "  Downloading py-cpuinfo-8.0.0.tar.gz (99 kB)\n",
      "Collecting tensorflow-hub>=0.6.0\n",
      "  Downloading tensorflow_hub-0.12.0-py2.py3-none-any.whl (108 kB)\n",
      "Requirement already satisfied: scipy>=0.19.1 in d:\\hand sign prediction using tensorflow object detection\\hsptod\\lib\\site-packages (from tf-models-official) (1.7.0)\n",
      "Collecting sentencepiece\n",
      "  Downloading sentencepiece-0.1.96-cp37-cp37m-win_amd64.whl (1.1 MB)\n",
      "Collecting tensorflow-model-optimization>=0.4.1\n",
      "  Downloading tensorflow_model_optimization-0.6.0-py2.py3-none-any.whl (211 kB)\n",
      "Collecting psutil>=5.4.3\n",
      "  Using cached psutil-5.8.0-cp37-cp37m-win_amd64.whl (244 kB)\n",
      "Collecting tensorflow-datasets\n",
      "  Downloading tensorflow_datasets-4.3.0-py3-none-any.whl (3.9 MB)\n",
      "Requirement already satisfied: gin-config in d:\\hand sign prediction using tensorflow object detection\\hsptod\\lib\\site-packages (from tf-models-official) (0.1.1)\n",
      "Collecting sacrebleu\n",
      "  Downloading sacrebleu-1.5.1-py3-none-any.whl (54 kB)\n",
      "Requirement already satisfied: Pillow in d:\\hand sign prediction using tensorflow object detection\\hsptod\\lib\\site-packages (from tf-models-official) (8.3.1)\n",
      "Requirement already satisfied: tf-slim>=1.1.0 in d:\\hand sign prediction using tensorflow object detection\\hsptod\\lib\\site-packages (from tf-models-official) (1.1.0)\n",
      "Collecting google-cloud-bigquery>=0.31.0\n",
      "  Downloading google_cloud_bigquery-2.20.0-py2.py3-none-any.whl (189 kB)\n",
      "Collecting kaggle>=1.3.9\n",
      "  Downloading kaggle-1.5.12.tar.gz (58 kB)\n",
      "Collecting oauth2client\n",
      "  Downloading oauth2client-4.1.3-py2.py3-none-any.whl (98 kB)\n",
      "Requirement already satisfied: numpy>=1.15.4 in d:\\hand sign prediction using tensorflow object detection\\hsptod\\lib\\site-packages (from tf-models-official) (1.19.5)\n",
      "Collecting tensorflow-addons\n",
      "  Downloading tensorflow_addons-0.13.0-cp37-cp37m-win_amd64.whl (615 kB)\n",
      "Collecting google-api-python-client>=1.6.7\n",
      "  Downloading google_api_python_client-2.12.0-py2.py3-none-any.whl (7.1 MB)\n",
      "Requirement already satisfied: Cython in d:\\hand sign prediction using tensorflow object detection\\hsptod\\lib\\site-packages (from tf-models-official) (0.29.23)\n",
      "Requirement already satisfied: pyyaml>=5.1 in d:\\hand sign prediction using tensorflow object detection\\hsptod\\lib\\site-packages (from tf-models-official) (5.4.1)\n",
      "Collecting google-api-core<2dev,>=1.21.0\n",
      "  Downloading google_api_core-1.31.0-py2.py3-none-any.whl (93 kB)\n",
      "Collecting uritemplate<4dev,>=3.0.0\n",
      "  Downloading uritemplate-3.0.1-py2.py3-none-any.whl (15 kB)\n",
      "Collecting google-auth-httplib2>=0.1.0\n",
      "  Downloading google_auth_httplib2-0.1.0-py2.py3-none-any.whl (9.3 kB)\n",
      "Collecting httplib2<1dev,>=0.15.0\n",
      "  Downloading httplib2-0.19.1-py3-none-any.whl (95 kB)\n",
      "Requirement already satisfied: google-auth<2dev,>=1.16.0 in d:\\hand sign prediction using tensorflow object detection\\hsptod\\lib\\site-packages (from google-api-python-client>=1.6.7->tf-models-official) (1.32.1)\n",
      "Requirement already satisfied: pytz in d:\\hand sign prediction using tensorflow object detection\\hsptod\\lib\\site-packages (from google-api-core<2dev,>=1.21.0->google-api-python-client>=1.6.7->tf-models-official) (2021.1)\n",
      "Requirement already satisfied: protobuf>=3.12.0 in d:\\hand sign prediction using tensorflow object detection\\hsptod\\lib\\site-packages (from google-api-core<2dev,>=1.21.0->google-api-python-client>=1.6.7->tf-models-official) (3.17.3)\n",
      "Collecting googleapis-common-protos<2.0dev,>=1.6.0\n",
      "  Downloading googleapis_common_protos-1.53.0-py2.py3-none-any.whl (198 kB)\n",
      "Requirement already satisfied: requests<3.0.0dev,>=2.18.0 in d:\\hand sign prediction using tensorflow object detection\\hsptod\\lib\\site-packages (from google-api-core<2dev,>=1.21.0->google-api-python-client>=1.6.7->tf-models-official) (2.25.1)\n",
      "Requirement already satisfied: packaging>=14.3 in d:\\hand sign prediction using tensorflow object detection\\hsptod\\lib\\site-packages (from google-api-core<2dev,>=1.21.0->google-api-python-client>=1.6.7->tf-models-official) (21.0)\n",
      "Requirement already satisfied: setuptools>=40.3.0 in d:\\hand sign prediction using tensorflow object detection\\hsptod\\lib\\site-packages (from google-api-core<2dev,>=1.21.0->google-api-python-client>=1.6.7->tf-models-official) (57.1.0)\n",
      "Requirement already satisfied: pyasn1-modules>=0.2.1 in d:\\hand sign prediction using tensorflow object detection\\hsptod\\lib\\site-packages (from google-auth<2dev,>=1.16.0->google-api-python-client>=1.6.7->tf-models-official) (0.2.8)\n",
      "Requirement already satisfied: rsa<5,>=3.1.4 in d:\\hand sign prediction using tensorflow object detection\\hsptod\\lib\\site-packages (from google-auth<2dev,>=1.16.0->google-api-python-client>=1.6.7->tf-models-official) (4.7.2)\n",
      "Requirement already satisfied: cachetools<5.0,>=2.0.0 in d:\\hand sign prediction using tensorflow object detection\\hsptod\\lib\\site-packages (from google-auth<2dev,>=1.16.0->google-api-python-client>=1.6.7->tf-models-official) (4.2.2)\n",
      "Collecting google-cloud-core<2.0dev,>=1.4.1\n",
      "  Downloading google_cloud_core-1.7.1-py2.py3-none-any.whl (28 kB)\n",
      "Collecting google-resumable-media<2.0dev,>=0.6.0\n",
      "  Downloading google_resumable_media-1.3.1-py2.py3-none-any.whl (75 kB)\n",
      "Collecting proto-plus>=1.10.0\n",
      "  Downloading proto_plus-1.19.0-py3-none-any.whl (42 kB)\n",
      "Requirement already satisfied: grpcio<2.0dev,>=1.29.0 in d:\\hand sign prediction using tensorflow object detection\\hsptod\\lib\\site-packages (from google-api-core<2dev,>=1.21.0->google-api-python-client>=1.6.7->tf-models-official) (1.34.1)\n",
      "Collecting google-crc32c<2.0dev,>=1.0\n",
      "  Downloading google_crc32c-1.1.2-cp37-cp37m-win_amd64.whl (34 kB)\n",
      "Collecting cffi>=1.0.0\n",
      "  Downloading cffi-1.14.6-cp37-cp37m-win_amd64.whl (178 kB)\n",
      "Collecting pycparser\n",
      "  Using cached pycparser-2.20-py2.py3-none-any.whl (112 kB)\n",
      "Requirement already satisfied: pyparsing<3,>=2.4.2 in d:\\hand sign prediction using tensorflow object detection\\hsptod\\lib\\site-packages (from httplib2<1dev,>=0.15.0->google-api-python-client>=1.6.7->tf-models-official) (2.4.7)\n",
      "Requirement already satisfied: certifi in d:\\hand sign prediction using tensorflow object detection\\hsptod\\lib\\site-packages (from kaggle>=1.3.9->tf-models-official) (2021.5.30)\n",
      "Requirement already satisfied: python-dateutil in d:\\hand sign prediction using tensorflow object detection\\hsptod\\lib\\site-packages (from kaggle>=1.3.9->tf-models-official) (2.8.1)\n",
      "Collecting tqdm\n",
      "  Downloading tqdm-4.61.2-py2.py3-none-any.whl (76 kB)\n",
      "Collecting python-slugify\n",
      "  Downloading python_slugify-5.0.2-py2.py3-none-any.whl (6.7 kB)\n",
      "Requirement already satisfied: urllib3 in d:\\hand sign prediction using tensorflow object detection\\hsptod\\lib\\site-packages (from kaggle>=1.3.9->tf-models-official) (1.26.6)\n",
      "Requirement already satisfied: pyasn1<0.5.0,>=0.4.6 in d:\\hand sign prediction using tensorflow object detection\\hsptod\\lib\\site-packages (from pyasn1-modules>=0.2.1->google-auth<2dev,>=1.16.0->google-api-python-client>=1.6.7->tf-models-official) (0.4.8)\n",
      "Requirement already satisfied: chardet<5,>=3.0.2 in d:\\hand sign prediction using tensorflow object detection\\hsptod\\lib\\site-packages (from requests<3.0.0dev,>=2.18.0->google-api-core<2dev,>=1.21.0->google-api-python-client>=1.6.7->tf-models-official) (4.0.0)\n",
      "Requirement already satisfied: idna<3,>=2.5 in d:\\hand sign prediction using tensorflow object detection\\hsptod\\lib\\site-packages (from requests<3.0.0dev,>=2.18.0->google-api-core<2dev,>=1.21.0->google-api-python-client>=1.6.7->tf-models-official) (2.10)\n",
      "Requirement already satisfied: gast==0.4.0 in d:\\hand sign prediction using tensorflow object detection\\hsptod\\lib\\site-packages (from tensorflow>=2.5.0->tf-models-official) (0.4.0)\n",
      "Requirement already satisfied: h5py~=3.1.0 in d:\\hand sign prediction using tensorflow object detection\\hsptod\\lib\\site-packages (from tensorflow>=2.5.0->tf-models-official) (3.1.0)\n",
      "Requirement already satisfied: google-pasta~=0.2 in d:\\hand sign prediction using tensorflow object detection\\hsptod\\lib\\site-packages (from tensorflow>=2.5.0->tf-models-official) (0.2.0)\n",
      "Requirement already satisfied: wrapt~=1.12.1 in d:\\hand sign prediction using tensorflow object detection\\hsptod\\lib\\site-packages (from tensorflow>=2.5.0->tf-models-official) (1.12.1)\n",
      "Requirement already satisfied: opt-einsum~=3.3.0 in d:\\hand sign prediction using tensorflow object detection\\hsptod\\lib\\site-packages (from tensorflow>=2.5.0->tf-models-official) (3.3.0)\n",
      "Requirement already satisfied: flatbuffers~=1.12.0 in d:\\hand sign prediction using tensorflow object detection\\hsptod\\lib\\site-packages (from tensorflow>=2.5.0->tf-models-official) (1.12)\n",
      "Requirement already satisfied: wheel~=0.35 in d:\\hand sign prediction using tensorflow object detection\\hsptod\\lib\\site-packages (from tensorflow>=2.5.0->tf-models-official) (0.36.2)\n",
      "Requirement already satisfied: tensorboard~=2.5 in d:\\hand sign prediction using tensorflow object detection\\hsptod\\lib\\site-packages (from tensorflow>=2.5.0->tf-models-official) (2.5.0)\n",
      "Requirement already satisfied: tensorflow-estimator<2.6.0,>=2.5.0rc0 in d:\\hand sign prediction using tensorflow object detection\\hsptod\\lib\\site-packages (from tensorflow>=2.5.0->tf-models-official) (2.5.0)\n",
      "Requirement already satisfied: keras-nightly~=2.5.0.dev in d:\\hand sign prediction using tensorflow object detection\\hsptod\\lib\\site-packages (from tensorflow>=2.5.0->tf-models-official) (2.5.0.dev2021032900)\n",
      "Requirement already satisfied: astunparse~=1.6.3 in d:\\hand sign prediction using tensorflow object detection\\hsptod\\lib\\site-packages (from tensorflow>=2.5.0->tf-models-official) (1.6.3)\n",
      "Requirement already satisfied: keras-preprocessing~=1.1.2 in d:\\hand sign prediction using tensorflow object detection\\hsptod\\lib\\site-packages (from tensorflow>=2.5.0->tf-models-official) (1.1.2)\n",
      "Requirement already satisfied: typing-extensions~=3.7.4 in d:\\hand sign prediction using tensorflow object detection\\hsptod\\lib\\site-packages (from tensorflow>=2.5.0->tf-models-official) (3.7.4.3)\n",
      "Requirement already satisfied: termcolor~=1.1.0 in d:\\hand sign prediction using tensorflow object detection\\hsptod\\lib\\site-packages (from tensorflow>=2.5.0->tf-models-official) (1.1.0)\n",
      "Requirement already satisfied: absl-py~=0.10 in d:\\hand sign prediction using tensorflow object detection\\hsptod\\lib\\site-packages (from tensorflow>=2.5.0->tf-models-official) (0.13.0)\n",
      "Requirement already satisfied: cached-property in d:\\hand sign prediction using tensorflow object detection\\hsptod\\lib\\site-packages (from h5py~=3.1.0->tensorflow>=2.5.0->tf-models-official) (1.5.2)\n",
      "Requirement already satisfied: markdown>=2.6.8 in d:\\hand sign prediction using tensorflow object detection\\hsptod\\lib\\site-packages (from tensorboard~=2.5->tensorflow>=2.5.0->tf-models-official) (3.3.4)\n",
      "Requirement already satisfied: tensorboard-data-server<0.7.0,>=0.6.0 in d:\\hand sign prediction using tensorflow object detection\\hsptod\\lib\\site-packages (from tensorboard~=2.5->tensorflow>=2.5.0->tf-models-official) (0.6.1)\n",
      "Requirement already satisfied: tensorboard-plugin-wit>=1.6.0 in d:\\hand sign prediction using tensorflow object detection\\hsptod\\lib\\site-packages (from tensorboard~=2.5->tensorflow>=2.5.0->tf-models-official) (1.8.0)\n",
      "Requirement already satisfied: google-auth-oauthlib<0.5,>=0.4.1 in d:\\hand sign prediction using tensorflow object detection\\hsptod\\lib\\site-packages (from tensorboard~=2.5->tensorflow>=2.5.0->tf-models-official) (0.4.4)\n",
      "Requirement already satisfied: werkzeug>=0.11.15 in d:\\hand sign prediction using tensorflow object detection\\hsptod\\lib\\site-packages (from tensorboard~=2.5->tensorflow>=2.5.0->tf-models-official) (2.0.1)\n",
      "Requirement already satisfied: requests-oauthlib>=0.7.0 in d:\\hand sign prediction using tensorflow object detection\\hsptod\\lib\\site-packages (from google-auth-oauthlib<0.5,>=0.4.1->tensorboard~=2.5->tensorflow>=2.5.0->tf-models-official) (1.3.0)\n",
      "Requirement already satisfied: importlib-metadata in d:\\hand sign prediction using tensorflow object detection\\hsptod\\lib\\site-packages (from markdown>=2.6.8->tensorboard~=2.5->tensorflow>=2.5.0->tf-models-official) (3.10.1)\n",
      "Requirement already satisfied: oauthlib>=3.0.0 in d:\\hand sign prediction using tensorflow object detection\\hsptod\\lib\\site-packages (from requests-oauthlib>=0.7.0->google-auth-oauthlib<0.5,>=0.4.1->tensorboard~=2.5->tensorflow>=2.5.0->tf-models-official) (3.1.1)\n",
      "Collecting dm-tree~=0.1.1\n",
      "  Downloading dm_tree-0.1.6-cp37-cp37m-win_amd64.whl (75 kB)\n",
      "Requirement already satisfied: zipp>=0.5 in d:\\hand sign prediction using tensorflow object detection\\hsptod\\lib\\site-packages (from importlib-metadata->markdown>=2.6.8->tensorboard~=2.5->tensorflow>=2.5.0->tf-models-official) (3.5.0)\n",
      "Requirement already satisfied: kiwisolver>=1.0.1 in d:\\hand sign prediction using tensorflow object detection\\hsptod\\lib\\site-packages (from matplotlib->tf-models-official) (1.3.1)\n",
      "Requirement already satisfied: cycler>=0.10 in d:\\hand sign prediction using tensorflow object detection\\hsptod\\lib\\site-packages (from matplotlib->tf-models-official) (0.10.0)\n",
      "Collecting text-unidecode>=1.3\n",
      "  Downloading text_unidecode-1.3-py2.py3-none-any.whl (78 kB)\n",
      "Collecting portalocker==2.0.0\n",
      "  Downloading portalocker-2.0.0-py2.py3-none-any.whl (11 kB)\n",
      "Requirement already satisfied: pywin32!=226 in d:\\hand sign prediction using tensorflow object detection\\hsptod\\lib\\site-packages (from portalocker==2.0.0->sacrebleu->tf-models-official) (301)\n",
      "Collecting scikit-learn>=0.21.3\n",
      "  Using cached scikit_learn-0.24.2-cp37-cp37m-win_amd64.whl (6.8 MB)\n",
      "Collecting joblib>=0.11\n",
      "  Using cached joblib-1.0.1-py3-none-any.whl (303 kB)\n",
      "Collecting threadpoolctl>=2.0.0\n",
      "  Downloading threadpoolctl-2.2.0-py3-none-any.whl (12 kB)\n",
      "Requirement already satisfied: typeguard>=2.7 in d:\\hand sign prediction using tensorflow object detection\\hsptod\\lib\\site-packages (from tensorflow-addons->tf-models-official) (2.12.1)\n",
      "Collecting importlib-resources\n",
      "  Downloading importlib_resources-5.2.0-py3-none-any.whl (27 kB)\n",
      "Collecting future\n",
      "  Downloading future-0.18.2.tar.gz (829 kB)\n",
      "Collecting dill\n",
      "  Downloading dill-0.3.4-py2.py3-none-any.whl (86 kB)\n",
      "Collecting tensorflow-metadata\n",
      "  Downloading tensorflow_metadata-1.1.0-py3-none-any.whl (48 kB)\n",
      "Collecting promise\n",
      "  Downloading promise-2.3.tar.gz (19 kB)\n",
      "Collecting attrs>=18.1.0\n",
      "  Using cached attrs-21.2.0-py2.py3-none-any.whl (53 kB)\n",
      "Collecting absl-py~=0.10\n",
      "  Using cached absl_py-0.12.0-py3-none-any.whl (129 kB)\n",
      "Requirement already satisfied: colorama in d:\\hand sign prediction using tensorflow object detection\\hsptod\\lib\\site-packages (from tqdm->kaggle>=1.3.9->tf-models-official) (0.4.4)\n",
      "Building wheels for collected packages: kaggle, py-cpuinfo, seqeval, future, promise\n",
      "  Building wheel for kaggle (setup.py): started\n",
      "  Building wheel for kaggle (setup.py): finished with status 'done'\n",
      "  Created wheel for kaggle: filename=kaggle-1.5.12-py3-none-any.whl size=73052 sha256=32be049b6d1ecb50ab416398b0bfc9525498f8a0004c4e8d0cb7bfbca3294b03\n",
      "  Stored in directory: c:\\users\\vaibh\\appdata\\local\\pip\\cache\\wheels\\62\\d6\\58\\5853130f941e75b2177d281eb7e44b4a98ed46dd155f556dc5\n",
      "  Building wheel for py-cpuinfo (setup.py): started\n",
      "  Building wheel for py-cpuinfo (setup.py): finished with status 'done'\n",
      "  Created wheel for py-cpuinfo: filename=py_cpuinfo-8.0.0-py3-none-any.whl size=22257 sha256=024fa7b5de087136843bb4449ed1f37d8eca616987e77ce970016cd376d059d6\n",
      "  Stored in directory: c:\\users\\vaibh\\appdata\\local\\pip\\cache\\wheels\\d2\\f1\\1f\\041add21dc9c4220157f1bd2bd6afe1f1a49524c3396b94401\n",
      "  Building wheel for seqeval (setup.py): started\n",
      "  Building wheel for seqeval (setup.py): finished with status 'done'\n",
      "  Created wheel for seqeval: filename=seqeval-1.2.2-py3-none-any.whl size=16181 sha256=a19ffa15b0acf74c78a7111a0a4765780942463415134f86632b4cd134dd8db2\n",
      "  Stored in directory: c:\\users\\vaibh\\appdata\\local\\pip\\cache\\wheels\\05\\96\\ee\\7cac4e74f3b19e3158dce26a20a1c86b3533c43ec72a549fd7\n",
      "  Building wheel for future (setup.py): started\n",
      "  Building wheel for future (setup.py): finished with status 'done'\n",
      "  Created wheel for future: filename=future-0.18.2-py3-none-any.whl size=491070 sha256=9e26a0378ca0fa2b3339dd0ffe4c4a5e7a249e401333a2856fa9309c43e2a066\n",
      "  Stored in directory: c:\\users\\vaibh\\appdata\\local\\pip\\cache\\wheels\\56\\b0\\fe\\4410d17b32f1f0c3cf54cdfb2bc04d7b4b8f4ae377e2229ba0\n",
      "  Building wheel for promise (setup.py): started\n",
      "  Building wheel for promise (setup.py): finished with status 'done'\n",
      "  Created wheel for promise: filename=promise-2.3-py3-none-any.whl size=21502 sha256=3374494e1375a9fd25cdad5ac09a0f3b3777fb0ea10d04890894a77eb2184727\n",
      "  Stored in directory: c:\\users\\vaibh\\appdata\\local\\pip\\cache\\wheels\\29\\93\\c6\\762e359f8cb6a5b69c72235d798804cae523bbe41c2aa8333d\n",
      "Successfully built kaggle py-cpuinfo seqeval future promise\n",
      "Installing collected packages: pycparser, googleapis-common-protos, cffi, threadpoolctl, text-unidecode, joblib, httplib2, google-crc32c, google-api-core, absl-py, uritemplate, tqdm, tensorflow-metadata, scikit-learn, python-slugify, proto-plus, promise, portalocker, importlib-resources, google-resumable-media, google-cloud-core, google-auth-httplib2, future, dm-tree, dill, attrs, tensorflow-model-optimization, tensorflow-hub, tensorflow-datasets, tensorflow-addons, seqeval, sentencepiece, sacrebleu, py-cpuinfo, psutil, opencv-python-headless, oauth2client, kaggle, google-cloud-bigquery, google-api-python-client, tf-models-official\n",
      "  Attempting uninstall: absl-py\n",
      "    Found existing installation: absl-py 0.13.0\n",
      "    Uninstalling absl-py-0.13.0:\n",
      "      Successfully uninstalled absl-py-0.13.0\n",
      "Successfully installed absl-py-0.12.0 attrs-21.2.0 cffi-1.14.6 dill-0.3.4 dm-tree-0.1.6 future-0.18.2 google-api-core-1.31.0 google-api-python-client-2.12.0 google-auth-httplib2-0.1.0 google-cloud-bigquery-2.20.0 google-cloud-core-1.7.1 google-crc32c-1.1.2 google-resumable-media-1.3.1 googleapis-common-protos-1.53.0 httplib2-0.19.1 importlib-resources-5.2.0 joblib-1.0.1 kaggle-1.5.12 oauth2client-4.1.3 opencv-python-headless-4.5.3.56 portalocker-2.0.0 promise-2.3 proto-plus-1.19.0 psutil-5.8.0 py-cpuinfo-8.0.0 pycparser-2.20 python-slugify-5.0.2 sacrebleu-1.5.1 scikit-learn-0.24.2 sentencepiece-0.1.96 seqeval-1.2.2 tensorflow-addons-0.13.0 tensorflow-datasets-4.3.0 tensorflow-hub-0.12.0 tensorflow-metadata-1.1.0 tensorflow-model-optimization-0.6.0 text-unidecode-1.3 tf-models-official-2.5.0 threadpoolctl-2.2.0 tqdm-4.61.2 uritemplate-3.0.1\n"
     ]
    },
    {
     "name": "stderr",
     "output_type": "stream",
     "text": [
      "ERROR: pip's dependency resolver does not currently take into account all the packages that are installed. This behaviour is the source of the following dependency conflicts.\n",
      "object-detection 0.1 requires apache-beam, which is not installed.\n",
      "object-detection 0.1 requires avro-python3, which is not installed.\n",
      "object-detection 0.1 requires contextlib2, which is not installed.\n",
      "object-detection 0.1 requires lvis, which is not installed.\n"
     ]
    }
   ],
   "source": [
    "!pip install tf-models-official"
   ]
  },
  {
   "cell_type": "code",
   "execution_count": 32,
   "id": "5b0a7cf6-9aa0-49fc-ae5b-4f5719a6840f",
   "metadata": {},
   "outputs": [
    {
     "name": "stdout",
     "output_type": "stream",
     "text": [
      "Collecting apache-beam\n",
      "  Downloading apache_beam-2.31.0-cp37-cp37m-win_amd64.whl (3.8 MB)\n",
      "Collecting dill<0.3.2,>=0.3.1.1\n",
      "  Downloading dill-0.3.1.1.tar.gz (151 kB)\n",
      "Requirement already satisfied: pytz>=2018.3 in d:\\hand sign prediction using tensorflow object detection\\hsptod\\lib\\site-packages (from apache-beam) (2021.1)\n",
      "Requirement already satisfied: oauth2client<5,>=2.0.1 in d:\\hand sign prediction using tensorflow object detection\\hsptod\\lib\\site-packages (from apache-beam) (4.1.3)\n",
      "Collecting avro-python3!=1.9.2,<1.10.0,>=1.8.1\n",
      "  Downloading avro-python3-1.9.2.1.tar.gz (37 kB)\n",
      "Requirement already satisfied: grpcio<2,>=1.29.0 in d:\\hand sign prediction using tensorflow object detection\\hsptod\\lib\\site-packages (from apache-beam) (1.34.1)\n",
      "Requirement already satisfied: python-dateutil<3,>=2.8.0 in d:\\hand sign prediction using tensorflow object detection\\hsptod\\lib\\site-packages (from apache-beam) (2.8.1)\n",
      "Collecting pydot<2,>=1.2.0\n",
      "  Downloading pydot-1.4.2-py2.py3-none-any.whl (21 kB)\n",
      "Requirement already satisfied: future<1.0.0,>=0.18.2 in d:\\hand sign prediction using tensorflow object detection\\hsptod\\lib\\site-packages (from apache-beam) (0.18.2)\n",
      "Requirement already satisfied: requests<3.0.0,>=2.24.0 in d:\\hand sign prediction using tensorflow object detection\\hsptod\\lib\\site-packages (from apache-beam) (2.25.1)\n",
      "Collecting hdfs<3.0.0,>=2.1.0\n",
      "  Downloading hdfs-2.6.0-py3-none-any.whl (33 kB)\n",
      "Requirement already satisfied: protobuf<4,>=3.12.2 in d:\\hand sign prediction using tensorflow object detection\\hsptod\\lib\\site-packages (from apache-beam) (3.17.3)\n",
      "Requirement already satisfied: typing-extensions<3.8.0,>=3.7.0 in d:\\hand sign prediction using tensorflow object detection\\hsptod\\lib\\site-packages (from apache-beam) (3.7.4.3)\n",
      "Collecting pymongo<4.0.0,>=3.8.0\n",
      "  Downloading pymongo-3.11.4-cp37-cp37m-win_amd64.whl (382 kB)\n",
      "Requirement already satisfied: httplib2<0.20.0,>=0.8 in d:\\hand sign prediction using tensorflow object detection\\hsptod\\lib\\site-packages (from apache-beam) (0.19.1)\n",
      "Collecting fastavro<2,>=0.21.4\n",
      "  Downloading fastavro-1.4.2-cp37-cp37m-win_amd64.whl (397 kB)\n",
      "Requirement already satisfied: numpy<1.21.0,>=1.14.3 in d:\\hand sign prediction using tensorflow object detection\\hsptod\\lib\\site-packages (from apache-beam) (1.19.5)\n",
      "Collecting crcmod<2.0,>=1.7\n",
      "  Downloading crcmod-1.7.tar.gz (89 kB)\n",
      "Collecting pyarrow<5.0.0,>=0.15.1\n",
      "  Using cached pyarrow-4.0.1-cp37-cp37m-win_amd64.whl (13.3 MB)\n",
      "Requirement already satisfied: six>=1.5.2 in d:\\hand sign prediction using tensorflow object detection\\hsptod\\lib\\site-packages (from grpcio<2,>=1.29.0->apache-beam) (1.15.0)\n",
      "Collecting docopt\n",
      "  Downloading docopt-0.6.2.tar.gz (25 kB)\n",
      "Requirement already satisfied: pyparsing<3,>=2.4.2 in d:\\hand sign prediction using tensorflow object detection\\hsptod\\lib\\site-packages (from httplib2<0.20.0,>=0.8->apache-beam) (2.4.7)\n",
      "Requirement already satisfied: pyasn1>=0.1.7 in d:\\hand sign prediction using tensorflow object detection\\hsptod\\lib\\site-packages (from oauth2client<5,>=2.0.1->apache-beam) (0.4.8)\n",
      "Requirement already satisfied: rsa>=3.1.4 in d:\\hand sign prediction using tensorflow object detection\\hsptod\\lib\\site-packages (from oauth2client<5,>=2.0.1->apache-beam) (4.7.2)\n",
      "Requirement already satisfied: pyasn1-modules>=0.0.5 in d:\\hand sign prediction using tensorflow object detection\\hsptod\\lib\\site-packages (from oauth2client<5,>=2.0.1->apache-beam) (0.2.8)\n",
      "Requirement already satisfied: certifi>=2017.4.17 in d:\\hand sign prediction using tensorflow object detection\\hsptod\\lib\\site-packages (from requests<3.0.0,>=2.24.0->apache-beam) (2021.5.30)\n",
      "Requirement already satisfied: urllib3<1.27,>=1.21.1 in d:\\hand sign prediction using tensorflow object detection\\hsptod\\lib\\site-packages (from requests<3.0.0,>=2.24.0->apache-beam) (1.26.6)\n",
      "Requirement already satisfied: chardet<5,>=3.0.2 in d:\\hand sign prediction using tensorflow object detection\\hsptod\\lib\\site-packages (from requests<3.0.0,>=2.24.0->apache-beam) (4.0.0)\n",
      "Requirement already satisfied: idna<3,>=2.5 in d:\\hand sign prediction using tensorflow object detection\\hsptod\\lib\\site-packages (from requests<3.0.0,>=2.24.0->apache-beam) (2.10)\n",
      "Building wheels for collected packages: avro-python3, crcmod, dill, docopt\n",
      "  Building wheel for avro-python3 (setup.py): started\n",
      "  Building wheel for avro-python3 (setup.py): finished with status 'done'\n",
      "  Created wheel for avro-python3: filename=avro_python3-1.9.2.1-py3-none-any.whl size=43512 sha256=0f80fb1ff718f7138208854f69b365838dc32a7bbcc156ab25f0bbc27f63e859\n",
      "  Stored in directory: c:\\users\\vaibh\\appdata\\local\\pip\\cache\\wheels\\bc\\49\\5f\\fdb5b9d85055c478213e0158ac122b596816149a02d82e0ab1\n",
      "  Building wheel for crcmod (setup.py): started\n",
      "  Building wheel for crcmod (setup.py): finished with status 'done'\n",
      "  Created wheel for crcmod: filename=crcmod-1.7-cp37-cp37m-win_amd64.whl size=25320 sha256=fb75fd5213fd884ca025fe1748c7e95912b126563c885ac1e602ffbc172d2e71\n",
      "  Stored in directory: c:\\users\\vaibh\\appdata\\local\\pip\\cache\\wheels\\dc\\9a\\e9\\49e627353476cec8484343c4ab656f1e0d783ee77b9dde2d1f\n",
      "  Building wheel for dill (setup.py): started\n",
      "  Building wheel for dill (setup.py): finished with status 'done'\n",
      "  Created wheel for dill: filename=dill-0.3.1.1-py3-none-any.whl size=78607 sha256=af49f4d4659e8c0fd59e95d10aefa4b0b36149806b11a852460d339b260f676a\n",
      "  Stored in directory: c:\\users\\vaibh\\appdata\\local\\pip\\cache\\wheels\\a4\\61\\fd\\c57e374e580aa78a45ed78d5859b3a44436af17e22ca53284f\n",
      "  Building wheel for docopt (setup.py): started\n",
      "  Building wheel for docopt (setup.py): finished with status 'done'\n",
      "  Created wheel for docopt: filename=docopt-0.6.2-py2.py3-none-any.whl size=13724 sha256=e51b91505b521d359ef6243141f32749c168cd500a4313c5a77318c1a1a6d576\n",
      "  Stored in directory: c:\\users\\vaibh\\appdata\\local\\pip\\cache\\wheels\\72\\b0\\3f\\1d95f96ff986c7dfffe46ce2be4062f38ebd04b506c77c81b9\n",
      "Successfully built avro-python3 crcmod dill docopt\n",
      "Installing collected packages: docopt, pymongo, pydot, pyarrow, hdfs, fastavro, dill, crcmod, avro-python3, apache-beam\n",
      "  Attempting uninstall: dill\n",
      "    Found existing installation: dill 0.3.4\n",
      "    Uninstalling dill-0.3.4:\n",
      "      Successfully uninstalled dill-0.3.4\n",
      "Successfully installed apache-beam-2.31.0 avro-python3-1.9.2.1 crcmod-1.7 dill-0.3.1.1 docopt-0.6.2 fastavro-1.4.2 hdfs-2.6.0 pyarrow-4.0.1 pydot-1.4.2 pymongo-3.11.4\n"
     ]
    },
    {
     "name": "stderr",
     "output_type": "stream",
     "text": [
      "ERROR: pip's dependency resolver does not currently take into account all the packages that are installed. This behaviour is the source of the following dependency conflicts.\n",
      "object-detection 0.1 requires contextlib2, which is not installed.\n",
      "object-detection 0.1 requires lvis, which is not installed.\n"
     ]
    }
   ],
   "source": [
    "!pip install apache-beam"
   ]
  },
  {
   "cell_type": "code",
   "execution_count": 33,
   "id": "94ba73af-8c91-45b8-8589-786bbd9ae6a6",
   "metadata": {},
   "outputs": [
    {
     "name": "stdout",
     "output_type": "stream",
     "text": [
      "Requirement already satisfied: avro-python3 in d:\\hand sign prediction using tensorflow object detection\\hsptod\\lib\\site-packages (1.9.2.1)\n"
     ]
    }
   ],
   "source": [
    "!pip install avro-python3"
   ]
  },
  {
   "cell_type": "code",
   "execution_count": 34,
   "id": "401f49fc-fde1-4f3e-a4e1-8c4200a8b799",
   "metadata": {},
   "outputs": [
    {
     "name": "stdout",
     "output_type": "stream",
     "text": [
      "Collecting contextlib2\n",
      "  Downloading contextlib2-21.6.0-py2.py3-none-any.whl (13 kB)\n",
      "Installing collected packages: contextlib2\n",
      "Successfully installed contextlib2-21.6.0\n"
     ]
    },
    {
     "name": "stderr",
     "output_type": "stream",
     "text": [
      "ERROR: pip's dependency resolver does not currently take into account all the packages that are installed. This behaviour is the source of the following dependency conflicts.\n",
      "object-detection 0.1 requires lvis, which is not installed.\n"
     ]
    }
   ],
   "source": [
    "!pip install contextlib2"
   ]
  },
  {
   "cell_type": "code",
   "execution_count": 35,
   "id": "398159dd-dae0-44c0-91b3-0adfa943bcb2",
   "metadata": {},
   "outputs": [
    {
     "name": "stdout",
     "output_type": "stream",
     "text": [
      "Collecting lvis\n",
      "  Downloading lvis-0.5.3-py3-none-any.whl (14 kB)\n",
      "Requirement already satisfied: pyparsing>=2.4.0 in d:\\hand sign prediction using tensorflow object detection\\hsptod\\lib\\site-packages (from lvis) (2.4.7)\n",
      "Requirement already satisfied: Cython>=0.29.12 in d:\\hand sign prediction using tensorflow object detection\\hsptod\\lib\\site-packages (from lvis) (0.29.23)\n",
      "Requirement already satisfied: kiwisolver>=1.1.0 in d:\\hand sign prediction using tensorflow object detection\\hsptod\\lib\\site-packages (from lvis) (1.3.1)\n",
      "Requirement already satisfied: python-dateutil>=2.8.0 in d:\\hand sign prediction using tensorflow object detection\\hsptod\\lib\\site-packages (from lvis) (2.8.1)\n",
      "Requirement already satisfied: numpy>=1.18.2 in d:\\hand sign prediction using tensorflow object detection\\hsptod\\lib\\site-packages (from lvis) (1.19.5)\n",
      "Requirement already satisfied: cycler>=0.10.0 in d:\\hand sign prediction using tensorflow object detection\\hsptod\\lib\\site-packages (from lvis) (0.10.0)\n",
      "Requirement already satisfied: opencv-python>=4.1.0.25 in d:\\hand sign prediction using tensorflow object detection\\hsptod\\lib\\site-packages (from lvis) (4.5.3.56)\n",
      "Requirement already satisfied: six>=1.12.0 in d:\\hand sign prediction using tensorflow object detection\\hsptod\\lib\\site-packages (from lvis) (1.15.0)\n",
      "Requirement already satisfied: matplotlib>=3.1.1 in d:\\hand sign prediction using tensorflow object detection\\hsptod\\lib\\site-packages (from lvis) (3.2.0)\n",
      "Installing collected packages: lvis\n",
      "Successfully installed lvis-0.5.3\n"
     ]
    }
   ],
   "source": [
    "!pip install lvis"
   ]
  },
  {
   "cell_type": "markdown",
   "id": "8f80d1c7-9a2e-4f3b-b237-27e3e2d439f4",
   "metadata": {},
   "source": [
    "## OpenCV Webcam access check\n",
    "cv2.VideoCapture(0) generally refers to Webcam of the PC, however in case of a different OS or an external camera, an error for \"Device not found\" may appear, in that case try changing the number from 0 to any other so that it can detect the video device. In case of MacOS there can be a situation where the number might be negative, generally it is 2."
   ]
  },
  {
   "cell_type": "code",
   "execution_count": 29,
   "id": "280d115f-5a23-4175-a7d2-7809ea8ba0e6",
   "metadata": {
    "collapsed": true,
    "jupyter": {
     "outputs_hidden": true
    },
    "tags": []
   },
   "outputs": [],
   "source": [
    "# Script to check the availability of webcam\n",
    "import cv2\n",
    "cap =cv2.VideoCapture(1) # This connects to the webcam / camera available at the moment (depends on the number the particular device will be selected)\n",
    "while cap.isOpened():\n",
    "    ret,frame = cap.read()\n",
    "    cv2.imshow(\"Open CV Feed\",frame)\n",
    "    if cv2.waitKey(10) & 0xFF == ord(\"q\"):\n",
    "        break\n",
    "cap.release()\n",
    "cv2.destroyAllWindows()"
   ]
  },
  {
   "cell_type": "code",
   "execution_count": 30,
   "id": "79311e35-926c-4dc1-81f7-7d6779bacbcf",
   "metadata": {
    "collapsed": true,
    "jupyter": {
     "outputs_hidden": true
    },
    "tags": []
   },
   "outputs": [
    {
     "name": "stdout",
     "output_type": "stream",
     "text": [
      "Package                 Version\n",
      "----------------------- -------------------\n",
      "absl-py                 0.13.0\n",
      "astunparse              1.6.3\n",
      "backcall                0.2.0\n",
      "cached-property         1.5.2\n",
      "cachetools              4.2.2\n",
      "certifi                 2021.5.30\n",
      "chardet                 4.0.0\n",
      "colorama                0.4.4\n",
      "cycler                  0.10.0\n",
      "Cython                  0.29.23\n",
      "debtcollector           2.2.0\n",
      "debugpy                 1.3.0\n",
      "decorator               5.0.9\n",
      "dnspython               1.16.0\n",
      "eventlet                0.31.0\n",
      "fasteners               0.16.3\n",
      "flatbuffers             1.12\n",
      "gast                    0.4.0\n",
      "gin-config              0.1.1\n",
      "google-auth             1.32.1\n",
      "google-auth-oauthlib    0.4.4\n",
      "google-pasta            0.2.0\n",
      "greenlet                1.1.0\n",
      "grpcio                  1.34.1\n",
      "h5py                    3.1.0\n",
      "idna                    2.10\n",
      "importlib-metadata      3.10.1\n",
      "ipykernel               6.0.1\n",
      "ipython                 7.25.0\n",
      "ipython-genutils        0.2.0\n",
      "iso8601                 0.1.14\n",
      "jedi                    0.18.0\n",
      "jupyter-client          6.1.12\n",
      "jupyter-core            4.7.1\n",
      "Keras                   2.4.3\n",
      "keras-nightly           2.5.0.dev2021032900\n",
      "Keras-Preprocessing     1.1.2\n",
      "kiwisolver              1.3.1\n",
      "lxml                    4.6.3\n",
      "Markdown                3.3.4\n",
      "matplotlib              3.2.0\n",
      "matplotlib-inline       0.1.2\n",
      "msgpack                 1.0.2\n",
      "netaddr                 0.8.0\n",
      "netifaces               0.11.0\n",
      "numpy                   1.19.5\n",
      "oauthlib                3.1.1\n",
      "opencv-python           4.5.3.56\n",
      "opt-einsum              3.3.0\n",
      "os-win                  5.4.0\n",
      "oslo.concurrency        4.4.0\n",
      "oslo.config             8.7.0\n",
      "oslo.context            3.3.0\n",
      "oslo.i18n               5.0.1\n",
      "oslo.log                4.6.0\n",
      "oslo.serialization      4.1.0\n",
      "oslo.utils              4.9.2\n",
      "packaging               21.0\n",
      "pandas                  1.3.0\n",
      "parso                   0.8.2\n",
      "pbr                     5.6.0\n",
      "pickleshare             0.7.5\n",
      "Pillow                  8.3.1\n",
      "pip                     21.1.3\n",
      "prompt-toolkit          3.0.19\n",
      "protobuf                3.17.3\n",
      "pyasn1                  0.4.8\n",
      "pyasn1-modules          0.2.8\n",
      "pycocotools             2.0.2\n",
      "Pygments                2.9.0\n",
      "PyMI                    1.0.6\n",
      "pyparsing               2.4.7\n",
      "PyQt5                   5.15.4\n",
      "PyQt5-Qt5               5.15.2\n",
      "PyQt5-sip               12.9.0\n",
      "python-dateutil         2.8.1\n",
      "pytz                    2021.1\n",
      "pywin32                 301\n",
      "PyYAML                  5.4.1\n",
      "pyzmq                   22.1.0\n",
      "requests                2.25.1\n",
      "requests-oauthlib       1.3.0\n",
      "rfc3986                 1.5.0\n",
      "rsa                     4.7.2\n",
      "scipy                   1.7.0\n",
      "setuptools              57.1.0\n",
      "six                     1.15.0\n",
      "stevedore               3.3.0\n",
      "tensorboard             2.5.0\n",
      "tensorboard-data-server 0.6.1\n",
      "tensorboard-plugin-wit  1.8.0\n",
      "tensorflow              2.5.0\n",
      "tensorflow-estimator    2.5.0\n",
      "tensorflow-gpu          2.5.0\n",
      "termcolor               1.1.0\n",
      "tornado                 6.1\n",
      "traitlets               5.0.5\n",
      "typeguard               2.12.1\n",
      "typing-extensions       3.7.4.3\n",
      "urllib3                 1.26.6\n",
      "uuid                    1.30\n",
      "wcwidth                 0.2.5\n",
      "Werkzeug                2.0.1\n",
      "wget                    3.2\n",
      "wheel                   0.36.2\n",
      "WMI                     1.5.1\n",
      "wrapt                   1.12.1\n",
      "zipp                    3.5.0\n"
     ]
    }
   ],
   "source": [
    "!pip list"
   ]
  }
 ],
 "metadata": {
  "kernelspec": {
   "display_name": "HSDtf",
   "language": "python",
   "name": "hsdtf"
  },
  "language_info": {
   "codemirror_mode": {
    "name": "ipython",
    "version": 3
   },
   "file_extension": ".py",
   "mimetype": "text/x-python",
   "name": "python",
   "nbconvert_exporter": "python",
   "pygments_lexer": "ipython3",
   "version": "3.7.4"
  }
 },
 "nbformat": 4,
 "nbformat_minor": 5
}
